{
 "cells": [
  {
   "cell_type": "markdown",
   "metadata": {
    "execution": {
     "iopub.execute_input": "2023-05-24T13:34:51.073858Z",
     "iopub.status.busy": "2023-05-24T13:34:51.060892Z",
     "iopub.status.idle": "2023-05-24T13:34:51.225452Z",
     "shell.execute_reply": "2023-05-24T13:34:51.223458Z",
     "shell.execute_reply.started": "2023-05-24T13:34:51.063509Z"
    },
    "tags": []
   },
   "source": [
    "# Practice for 5511 RNN \n",
    "### Natural Language Processing with Disaster Tweets\n",
    "\n",
    "\n",
    "*May 2023*\n",
    "\n",
    "\n",
    "### **Problem Statement**\n",
    "\n",
    "The main objective of this project is to develop a RNN model that can classify which Tweets are about real disasters and which ones are not. \n",
    "\n",
    "\n",
    "\n",
    "### **Data Source:**\n",
    "\n",
    "https://www.kaggle.com/competitions/nlp-getting-started/data\n",
    "\n",
    "\n",
    "The data set includes 7613 Tweets for training, each text has a label of 0 or 1 in 'train.csv', and also 3263 test Tweets to be labeled.\n",
    "\n",
    "\n",
    "\n",
    "\n",
    "### **Methodology**\n",
    "\n",
    "To classify test text with the right label, we will use rnn. After implementing this approach, we will upload the label of test Tweets to kaggle to see the accuracy.\n",
    "\n",
    "By completing this project, we hope to enhance our knowledge of RNN and its applicability in real-world scenarios.\n",
    "\n",
    "\n",
    "### **Detail steps** \n",
    "\n",
    "\n",
    "**1. Exploratory Data Analysis (EDA)** \n",
    "\n",
    "Firstly we will explore and visualize the data to understand the structure and distribution of the data.  \n",
    "\n",
    "**2. Model Training & Evaluation**\n",
    "\n",
    "Next, we will build rnn with training data set and check the performance on test dataset. \n",
    "We need sequential model to process sequence of text data. \n",
    "Architectures with LSTM and GRU will be tried.\n",
    "\n",
    "**3. Conclusions**\n",
    "\n",
    "Finally, we will summarize the results and see what can be improved in the future. "
   ]
  },
  {
   "cell_type": "code",
   "execution_count": 78,
   "metadata": {
    "execution": {
     "iopub.execute_input": "2023-05-28T03:31:44.922517Z",
     "iopub.status.busy": "2023-05-28T03:31:44.921781Z",
     "iopub.status.idle": "2023-05-28T03:31:44.979628Z",
     "shell.execute_reply": "2023-05-28T03:31:44.979113Z",
     "shell.execute_reply.started": "2023-05-28T03:31:44.922517Z"
    },
    "tags": []
   },
   "outputs": [],
   "source": [
    "# importing the necessary libraries:\n",
    "\n",
    "import pandas as pd\n",
    "import numpy as np\n",
    "import seaborn as sns\n",
    "import matplotlib.pyplot as plt\n",
    "import string\n",
    "from tqdm import tqdm\n",
    "import re\n",
    "\n",
    "import nltk # To work with natural language\n",
    "from nltk.tokenize import word_tokenize # To tokenize each tweet\n",
    "from nltk.corpus import PlaintextCorpusReader # To create the corpus\n",
    "\n",
    "import regex as re\n",
    "from nltk.corpus import stopwords\n",
    "from bs4 import BeautifulSoup\n",
    "\n",
    "from sklearn.model_selection import train_test_split\n",
    "\n",
    "import tensorflow as tf\n",
    "from keras.preprocessing.text import Tokenizer\n",
    "from tensorflow.keras.preprocessing.sequence import pad_sequences\n",
    "from keras.models import Sequential\n",
    "from keras.layers import Embedding,LSTM,GRU,Dense,SpatialDropout1D,Dropout,Flatten\n",
    "from keras.initializers import Constant\n",
    "from keras.optimizers import Adam\n",
    "\n",
    "from keras.callbacks import LearningRateScheduler\n",
    "import math\n",
    "from keras.regularizers import l2\n",
    "from keras.callbacks import EarlyStopping\n",
    "\n",
    "import warnings\n",
    "\n",
    "# Define the filter to ignore the MarkupResemblesLocatorWarning\n",
    "warnings.filterwarnings(\"ignore\", category=UserWarning, message=\"MarkupResemblesLocatorWarning\")"
   ]
  },
  {
   "cell_type": "markdown",
   "metadata": {},
   "source": [
    "#  EDA"
   ]
  },
  {
   "cell_type": "markdown",
   "metadata": {},
   "source": [
    "### DATA LOADING"
   ]
  },
  {
   "cell_type": "code",
   "execution_count": 2,
   "metadata": {
    "execution": {
     "iopub.execute_input": "2023-05-27T14:41:56.333650Z",
     "iopub.status.busy": "2023-05-27T14:41:56.333650Z",
     "iopub.status.idle": "2023-05-27T14:41:56.410081Z",
     "shell.execute_reply": "2023-05-27T14:41:56.409221Z",
     "shell.execute_reply.started": "2023-05-27T14:41:56.333650Z"
    },
    "tags": []
   },
   "outputs": [],
   "source": [
    "df_train = pd.read_csv('./data/train.csv')\n",
    "df_test = pd.read_csv('./data/test.csv')"
   ]
  },
  {
   "cell_type": "code",
   "execution_count": 3,
   "metadata": {
    "execution": {
     "iopub.execute_input": "2023-05-27T14:41:56.413074Z",
     "iopub.status.busy": "2023-05-27T14:41:56.413074Z",
     "iopub.status.idle": "2023-05-27T14:41:56.441323Z",
     "shell.execute_reply": "2023-05-27T14:41:56.440332Z",
     "shell.execute_reply.started": "2023-05-27T14:41:56.413074Z"
    },
    "tags": []
   },
   "outputs": [
    {
     "data": {
      "text/html": [
       "<div>\n",
       "<style scoped>\n",
       "    .dataframe tbody tr th:only-of-type {\n",
       "        vertical-align: middle;\n",
       "    }\n",
       "\n",
       "    .dataframe tbody tr th {\n",
       "        vertical-align: top;\n",
       "    }\n",
       "\n",
       "    .dataframe thead th {\n",
       "        text-align: right;\n",
       "    }\n",
       "</style>\n",
       "<table border=\"1\" class=\"dataframe\">\n",
       "  <thead>\n",
       "    <tr style=\"text-align: right;\">\n",
       "      <th></th>\n",
       "      <th>id</th>\n",
       "      <th>keyword</th>\n",
       "      <th>location</th>\n",
       "      <th>text</th>\n",
       "      <th>target</th>\n",
       "    </tr>\n",
       "  </thead>\n",
       "  <tbody>\n",
       "    <tr>\n",
       "      <th>0</th>\n",
       "      <td>1</td>\n",
       "      <td>NaN</td>\n",
       "      <td>NaN</td>\n",
       "      <td>Our Deeds are the Reason of this #earthquake M...</td>\n",
       "      <td>1</td>\n",
       "    </tr>\n",
       "    <tr>\n",
       "      <th>1</th>\n",
       "      <td>4</td>\n",
       "      <td>NaN</td>\n",
       "      <td>NaN</td>\n",
       "      <td>Forest fire near La Ronge Sask. Canada</td>\n",
       "      <td>1</td>\n",
       "    </tr>\n",
       "    <tr>\n",
       "      <th>2</th>\n",
       "      <td>5</td>\n",
       "      <td>NaN</td>\n",
       "      <td>NaN</td>\n",
       "      <td>All residents asked to 'shelter in place' are ...</td>\n",
       "      <td>1</td>\n",
       "    </tr>\n",
       "    <tr>\n",
       "      <th>3</th>\n",
       "      <td>6</td>\n",
       "      <td>NaN</td>\n",
       "      <td>NaN</td>\n",
       "      <td>13,000 people receive #wildfires evacuation or...</td>\n",
       "      <td>1</td>\n",
       "    </tr>\n",
       "    <tr>\n",
       "      <th>4</th>\n",
       "      <td>7</td>\n",
       "      <td>NaN</td>\n",
       "      <td>NaN</td>\n",
       "      <td>Just got sent this photo from Ruby #Alaska as ...</td>\n",
       "      <td>1</td>\n",
       "    </tr>\n",
       "  </tbody>\n",
       "</table>\n",
       "</div>"
      ],
      "text/plain": [
       "   id keyword location                                               text  \\\n",
       "0   1     NaN      NaN  Our Deeds are the Reason of this #earthquake M...   \n",
       "1   4     NaN      NaN             Forest fire near La Ronge Sask. Canada   \n",
       "2   5     NaN      NaN  All residents asked to 'shelter in place' are ...   \n",
       "3   6     NaN      NaN  13,000 people receive #wildfires evacuation or...   \n",
       "4   7     NaN      NaN  Just got sent this photo from Ruby #Alaska as ...   \n",
       "\n",
       "   target  \n",
       "0       1  \n",
       "1       1  \n",
       "2       1  \n",
       "3       1  \n",
       "4       1  "
      ]
     },
     "execution_count": 3,
     "metadata": {},
     "output_type": "execute_result"
    }
   ],
   "source": [
    "df_train.head()"
   ]
  },
  {
   "cell_type": "code",
   "execution_count": 4,
   "metadata": {
    "execution": {
     "iopub.execute_input": "2023-05-27T14:41:56.445313Z",
     "iopub.status.busy": "2023-05-27T14:41:56.445313Z",
     "iopub.status.idle": "2023-05-27T14:41:56.457087Z",
     "shell.execute_reply": "2023-05-27T14:41:56.456085Z",
     "shell.execute_reply.started": "2023-05-27T14:41:56.445313Z"
    },
    "tags": []
   },
   "outputs": [
    {
     "data": {
      "text/html": [
       "<div>\n",
       "<style scoped>\n",
       "    .dataframe tbody tr th:only-of-type {\n",
       "        vertical-align: middle;\n",
       "    }\n",
       "\n",
       "    .dataframe tbody tr th {\n",
       "        vertical-align: top;\n",
       "    }\n",
       "\n",
       "    .dataframe thead th {\n",
       "        text-align: right;\n",
       "    }\n",
       "</style>\n",
       "<table border=\"1\" class=\"dataframe\">\n",
       "  <thead>\n",
       "    <tr style=\"text-align: right;\">\n",
       "      <th></th>\n",
       "      <th>id</th>\n",
       "      <th>keyword</th>\n",
       "      <th>location</th>\n",
       "      <th>text</th>\n",
       "      <th>target</th>\n",
       "    </tr>\n",
       "  </thead>\n",
       "  <tbody>\n",
       "    <tr>\n",
       "      <th>7608</th>\n",
       "      <td>10869</td>\n",
       "      <td>NaN</td>\n",
       "      <td>NaN</td>\n",
       "      <td>Two giant cranes holding a bridge collapse int...</td>\n",
       "      <td>1</td>\n",
       "    </tr>\n",
       "    <tr>\n",
       "      <th>7609</th>\n",
       "      <td>10870</td>\n",
       "      <td>NaN</td>\n",
       "      <td>NaN</td>\n",
       "      <td>@aria_ahrary @TheTawniest The out of control w...</td>\n",
       "      <td>1</td>\n",
       "    </tr>\n",
       "    <tr>\n",
       "      <th>7610</th>\n",
       "      <td>10871</td>\n",
       "      <td>NaN</td>\n",
       "      <td>NaN</td>\n",
       "      <td>M1.94 [01:04 UTC]?5km S of Volcano Hawaii. htt...</td>\n",
       "      <td>1</td>\n",
       "    </tr>\n",
       "    <tr>\n",
       "      <th>7611</th>\n",
       "      <td>10872</td>\n",
       "      <td>NaN</td>\n",
       "      <td>NaN</td>\n",
       "      <td>Police investigating after an e-bike collided ...</td>\n",
       "      <td>1</td>\n",
       "    </tr>\n",
       "    <tr>\n",
       "      <th>7612</th>\n",
       "      <td>10873</td>\n",
       "      <td>NaN</td>\n",
       "      <td>NaN</td>\n",
       "      <td>The Latest: More Homes Razed by Northern Calif...</td>\n",
       "      <td>1</td>\n",
       "    </tr>\n",
       "  </tbody>\n",
       "</table>\n",
       "</div>"
      ],
      "text/plain": [
       "         id keyword location  \\\n",
       "7608  10869     NaN      NaN   \n",
       "7609  10870     NaN      NaN   \n",
       "7610  10871     NaN      NaN   \n",
       "7611  10872     NaN      NaN   \n",
       "7612  10873     NaN      NaN   \n",
       "\n",
       "                                                   text  target  \n",
       "7608  Two giant cranes holding a bridge collapse int...       1  \n",
       "7609  @aria_ahrary @TheTawniest The out of control w...       1  \n",
       "7610  M1.94 [01:04 UTC]?5km S of Volcano Hawaii. htt...       1  \n",
       "7611  Police investigating after an e-bike collided ...       1  \n",
       "7612  The Latest: More Homes Razed by Northern Calif...       1  "
      ]
     },
     "execution_count": 4,
     "metadata": {},
     "output_type": "execute_result"
    }
   ],
   "source": [
    "df_train.tail()"
   ]
  },
  {
   "cell_type": "code",
   "execution_count": 5,
   "metadata": {
    "execution": {
     "iopub.execute_input": "2023-05-27T14:41:56.459079Z",
     "iopub.status.busy": "2023-05-27T14:41:56.458081Z",
     "iopub.status.idle": "2023-05-27T14:41:56.488156Z",
     "shell.execute_reply": "2023-05-27T14:41:56.487232Z",
     "shell.execute_reply.started": "2023-05-27T14:41:56.459079Z"
    },
    "tags": []
   },
   "outputs": [
    {
     "name": "stdout",
     "output_type": "stream",
     "text": [
      "<class 'pandas.core.frame.DataFrame'>\n",
      "RangeIndex: 7613 entries, 0 to 7612\n",
      "Data columns (total 5 columns):\n",
      " #   Column    Non-Null Count  Dtype \n",
      "---  ------    --------------  ----- \n",
      " 0   id        7613 non-null   int64 \n",
      " 1   keyword   7552 non-null   object\n",
      " 2   location  5080 non-null   object\n",
      " 3   text      7613 non-null   object\n",
      " 4   target    7613 non-null   int64 \n",
      "dtypes: int64(2), object(3)\n",
      "memory usage: 297.5+ KB\n"
     ]
    }
   ],
   "source": [
    "df_train.info()"
   ]
  },
  {
   "cell_type": "markdown",
   "metadata": {},
   "source": [
    "### DATA DISTRIBUTION"
   ]
  },
  {
   "cell_type": "code",
   "execution_count": 6,
   "metadata": {
    "execution": {
     "iopub.execute_input": "2023-05-27T14:41:56.489337Z",
     "iopub.status.busy": "2023-05-27T14:41:56.489337Z",
     "iopub.status.idle": "2023-05-27T14:41:56.754834Z",
     "shell.execute_reply": "2023-05-27T14:41:56.754834Z",
     "shell.execute_reply.started": "2023-05-27T14:41:56.489337Z"
    },
    "tags": []
   },
   "outputs": [
    {
     "data": {
      "image/png": "[encoded data removed]",
      "text/plain": [
       "<Figure size 576x432 with 1 Axes>"
      ]
     },
     "metadata": {
      "needs_background": "light"
     },
     "output_type": "display_data"
    }
   ],
   "source": [
    "# Count the cases by label\n",
    "cases_by_label = df_train['target'].value_counts()\n",
    "\n",
    "plt.figure(figsize=(8,6)) # Set the figure size\n",
    "plt.bar(cases_by_label.index, cases_by_label.values, color=['tab:blue', 'tab:orange'])\n",
    "plt.title('Distribution of Cases by Label', fontsize=16, fontweight='bold', pad=20)\n",
    "plt.xlabel('Label', fontsize=14)\n",
    "plt.ylabel('Number of Cases', fontsize=14)\n",
    "plt.xticks(cases_by_label.index, ['Non-disaster', 'Disaster'], fontsize=12)\n",
    "\n",
    "for i, v in enumerate(cases_by_label.values):\n",
    "    plt.text(i-0.1, v+50, str(v), color='black', fontsize=12)\n",
    "\n",
    "plt.show()"
   ]
  },
  {
   "cell_type": "code",
   "execution_count": 7,
   "metadata": {
    "execution": {
     "iopub.execute_input": "2023-05-27T14:41:56.755693Z",
     "iopub.status.busy": "2023-05-27T14:41:56.755693Z",
     "iopub.status.idle": "2023-05-27T14:41:56.880361Z",
     "shell.execute_reply": "2023-05-27T14:41:56.879408Z",
     "shell.execute_reply.started": "2023-05-27T14:41:56.755693Z"
    },
    "tags": []
   },
   "outputs": [
    {
     "data": {
      "image/png": "[encoded data removed]",
      "text/plain": [
       "<Figure size 576x432 with 1 Axes>"
      ]
     },
     "metadata": {},
     "output_type": "display_data"
    }
   ],
   "source": [
    "# Plot the donut chart\n",
    "\n",
    "fig, ax = plt.subplots(figsize=(8,6))\n",
    "\n",
    "# Draw a circle\n",
    "centre_circle = plt.Circle((0,0),0.3,fc='white',linewidth=1)\n",
    "fig.gca().add_artist(centre_circle)\n",
    "\n",
    "# Plot the donut chart\n",
    "ax.pie(cases_by_label, labels=['Non-disaster', 'Disaster'], autopct='%1.1f%%', startangle=90, radius=1.2,\n",
    "       wedgeprops=dict(width=0.7, edgecolor='w'))\n",
    "\n",
    "plt.title('Distribution of Target Column')\n",
    "\n",
    "plt.show()"
   ]
  },
  {
   "cell_type": "code",
   "execution_count": 8,
   "metadata": {
    "execution": {
     "iopub.execute_input": "2023-05-27T14:41:56.881806Z",
     "iopub.status.busy": "2023-05-27T14:41:56.881358Z",
     "iopub.status.idle": "2023-05-27T14:41:56.911443Z",
     "shell.execute_reply": "2023-05-27T14:41:56.911443Z",
     "shell.execute_reply.started": "2023-05-27T14:41:56.881358Z"
    },
    "tags": []
   },
   "outputs": [
    {
     "data": {
      "text/html": [
       "<div>\n",
       "<style scoped>\n",
       "    .dataframe tbody tr th:only-of-type {\n",
       "        vertical-align: middle;\n",
       "    }\n",
       "\n",
       "    .dataframe tbody tr th {\n",
       "        vertical-align: top;\n",
       "    }\n",
       "\n",
       "    .dataframe thead th {\n",
       "        text-align: right;\n",
       "    }\n",
       "</style>\n",
       "<table border=\"1\" class=\"dataframe\">\n",
       "  <thead>\n",
       "    <tr style=\"text-align: right;\">\n",
       "      <th></th>\n",
       "      <th>id</th>\n",
       "      <th>target</th>\n",
       "    </tr>\n",
       "  </thead>\n",
       "  <tbody>\n",
       "    <tr>\n",
       "      <th>count</th>\n",
       "      <td>7613.000000</td>\n",
       "      <td>7613.00000</td>\n",
       "    </tr>\n",
       "    <tr>\n",
       "      <th>mean</th>\n",
       "      <td>5441.934848</td>\n",
       "      <td>0.42966</td>\n",
       "    </tr>\n",
       "    <tr>\n",
       "      <th>std</th>\n",
       "      <td>3137.116090</td>\n",
       "      <td>0.49506</td>\n",
       "    </tr>\n",
       "    <tr>\n",
       "      <th>min</th>\n",
       "      <td>1.000000</td>\n",
       "      <td>0.00000</td>\n",
       "    </tr>\n",
       "    <tr>\n",
       "      <th>25%</th>\n",
       "      <td>2734.000000</td>\n",
       "      <td>0.00000</td>\n",
       "    </tr>\n",
       "    <tr>\n",
       "      <th>50%</th>\n",
       "      <td>5408.000000</td>\n",
       "      <td>0.00000</td>\n",
       "    </tr>\n",
       "    <tr>\n",
       "      <th>75%</th>\n",
       "      <td>8146.000000</td>\n",
       "      <td>1.00000</td>\n",
       "    </tr>\n",
       "    <tr>\n",
       "      <th>max</th>\n",
       "      <td>10873.000000</td>\n",
       "      <td>1.00000</td>\n",
       "    </tr>\n",
       "  </tbody>\n",
       "</table>\n",
       "</div>"
      ],
      "text/plain": [
       "                 id      target\n",
       "count   7613.000000  7613.00000\n",
       "mean    5441.934848     0.42966\n",
       "std     3137.116090     0.49506\n",
       "min        1.000000     0.00000\n",
       "25%     2734.000000     0.00000\n",
       "50%     5408.000000     0.00000\n",
       "75%     8146.000000     1.00000\n",
       "max    10873.000000     1.00000"
      ]
     },
     "execution_count": 8,
     "metadata": {},
     "output_type": "execute_result"
    }
   ],
   "source": [
    "# summarize numeric columns\n",
    "df_train.describe()"
   ]
  },
  {
   "cell_type": "code",
   "execution_count": 9,
   "metadata": {
    "execution": {
     "iopub.execute_input": "2023-05-27T14:41:56.913438Z",
     "iopub.status.busy": "2023-05-27T14:41:56.912441Z",
     "iopub.status.idle": "2023-05-27T14:41:56.942971Z",
     "shell.execute_reply": "2023-05-27T14:41:56.942255Z",
     "shell.execute_reply.started": "2023-05-27T14:41:56.913438Z"
    },
    "tags": []
   },
   "outputs": [
    {
     "data": {
      "text/html": [
       "<div>\n",
       "<style scoped>\n",
       "    .dataframe tbody tr th:only-of-type {\n",
       "        vertical-align: middle;\n",
       "    }\n",
       "\n",
       "    .dataframe tbody tr th {\n",
       "        vertical-align: top;\n",
       "    }\n",
       "\n",
       "    .dataframe thead th {\n",
       "        text-align: right;\n",
       "    }\n",
       "</style>\n",
       "<table border=\"1\" class=\"dataframe\">\n",
       "  <thead>\n",
       "    <tr style=\"text-align: right;\">\n",
       "      <th></th>\n",
       "      <th>keyword</th>\n",
       "      <th>location</th>\n",
       "      <th>text</th>\n",
       "    </tr>\n",
       "  </thead>\n",
       "  <tbody>\n",
       "    <tr>\n",
       "      <th>count</th>\n",
       "      <td>7552</td>\n",
       "      <td>5080</td>\n",
       "      <td>7613</td>\n",
       "    </tr>\n",
       "    <tr>\n",
       "      <th>unique</th>\n",
       "      <td>221</td>\n",
       "      <td>3341</td>\n",
       "      <td>7503</td>\n",
       "    </tr>\n",
       "    <tr>\n",
       "      <th>top</th>\n",
       "      <td>fatalities</td>\n",
       "      <td>USA</td>\n",
       "      <td>11-Year-Old Boy Charged With Manslaughter of T...</td>\n",
       "    </tr>\n",
       "    <tr>\n",
       "      <th>freq</th>\n",
       "      <td>45</td>\n",
       "      <td>104</td>\n",
       "      <td>10</td>\n",
       "    </tr>\n",
       "  </tbody>\n",
       "</table>\n",
       "</div>"
      ],
      "text/plain": [
       "           keyword location                                               text\n",
       "count         7552     5080                                               7613\n",
       "unique         221     3341                                               7503\n",
       "top     fatalities      USA  11-Year-Old Boy Charged With Manslaughter of T...\n",
       "freq            45      104                                                 10"
      ]
     },
     "execution_count": 9,
     "metadata": {},
     "output_type": "execute_result"
    }
   ],
   "source": [
    "# summarize text columns\n",
    "df_train.describe(include=['object'])"
   ]
  },
  {
   "cell_type": "code",
   "execution_count": 10,
   "metadata": {
    "execution": {
     "iopub.execute_input": "2023-05-27T14:41:56.944397Z",
     "iopub.status.busy": "2023-05-27T14:41:56.943969Z",
     "iopub.status.idle": "2023-05-27T14:41:57.175920Z",
     "shell.execute_reply": "2023-05-27T14:41:57.175920Z",
     "shell.execute_reply.started": "2023-05-27T14:41:56.944397Z"
    },
    "tags": []
   },
   "outputs": [
    {
     "name": "stdout",
     "output_type": "stream",
     "text": [
      "id             0\n",
      "keyword       61\n",
      "location    2533\n",
      "text           0\n",
      "target         0\n",
      "dtype: int64\n"
     ]
    },
    {
     "data": {
      "image/png": "[encoded data removed]",
      "text/plain": [
       "<Figure size 576x432 with 1 Axes>"
      ]
     },
     "metadata": {
      "needs_background": "light"
     },
     "output_type": "display_data"
    }
   ],
   "source": [
    "# Check Misssing value\n",
    "null_vals = df_train.isnull().sum()\n",
    "print(null_vals)\n",
    "plt.figure(figsize=(8,6)) # Set the figure size\n",
    "\n",
    "# Call plot.bar() method to create the bar plot\n",
    "null_vals.plot.bar()\n",
    "\n",
    "# Set the title of the plot\n",
    "plt.title(\"Misssing Value of each Column\")\n",
    "\n",
    "# Add x and y axis labels\n",
    "plt.xlabel(\"Column Name\")\n",
    "plt.ylabel(\"Number of Missing Value\")\n",
    "\n",
    "# Display the plot\n",
    "plt.show()"
   ]
  },
  {
   "cell_type": "markdown",
   "metadata": {
    "execution": {
     "iopub.execute_input": "2023-05-24T14:41:52.652736Z",
     "iopub.status.busy": "2023-05-24T14:41:52.651716Z",
     "iopub.status.idle": "2023-05-24T14:41:52.662725Z",
     "shell.execute_reply": "2023-05-24T14:41:52.662725Z",
     "shell.execute_reply.started": "2023-05-24T14:41:52.651716Z"
    },
    "tags": []
   },
   "source": [
    "## Observations:\n",
    "\n",
    "* There are 2533 missing labels in location column and 63 missing values in keyword\n",
    "* In the training dataset, the ratio of positive cases to negative cases is 43:57, it's quite balanced, so we don't need to take additional actions to balance the data."
   ]
  },
  {
   "cell_type": "markdown",
   "metadata": {},
   "source": [
    "### DATA CLEANING\n",
    "\n"
   ]
  },
  {
   "cell_type": "code",
   "execution_count": 80,
   "metadata": {
    "execution": {
     "iopub.execute_input": "2023-05-28T03:34:13.083113Z",
     "iopub.status.busy": "2023-05-28T03:34:13.083113Z",
     "iopub.status.idle": "2023-05-28T03:34:13.881732Z",
     "shell.execute_reply": "2023-05-28T03:34:13.881732Z",
     "shell.execute_reply.started": "2023-05-28T03:34:13.083113Z"
    },
    "tags": []
   },
   "outputs": [],
   "source": [
    "warnings.filterwarnings(\"ignore\", category=UserWarning)\n",
    "# download stopwords dictionary\n",
    "# nltk.download('stopwords')\n",
    "\n",
    "# create a set of stopwords\n",
    "stop_words = set(stopwords.words('english'))\n",
    "\n",
    "\n",
    "# define function to clean tweets\n",
    "def clean_tweet(text):\n",
    "    # remove emojis\n",
    "    emoji_pattern = re.compile(\"[\"\n",
    "                               u\"\\U0001F600-\\U0001F64F\"  # emoticons\n",
    "                               u\"\\U0001F300-\\U0001F5FF\"  # symbols & pictographs\n",
    "                               u\"\\U0001F680-\\U0001F6FF\"  # transport & map symbols\n",
    "                               u\"\\U0001F1E0-\\U0001F1FF\"  # flags (iOS)\n",
    "                               u\"\\U00002702-\\U000027B0\"\n",
    "                               u\"\\U000024C2-\\U0001F251\"\n",
    "                               \"]+\", flags=re.UNICODE)\n",
    "    \n",
    "    # remove HTML tags\n",
    "    text = BeautifulSoup(text, \"html.parser\").get_text()\n",
    "    \n",
    "    # remove urls\n",
    "    text = re.sub(r\"http\\S+\", \"\", text)\n",
    "\n",
    "    # remove <> tags\n",
    "    text = re.sub(r\"</?[a-z]+>\", \"\", text)\n",
    "\n",
    "    # convert text to lowercase\n",
    "    text = text.lower()\n",
    "\n",
    "    # remove stopwords\n",
    "    text = ' '.join(word for word in text.split() if word not in stop_words)\n",
    "\n",
    "    return text\n",
    "\n",
    "# apply the function to the 'text' column and save the cleaned text in 'text_new' column\n",
    "df_train['text_new'] = df_train['text'].apply(clean_tweet)\n"
   ]
  },
  {
   "cell_type": "code",
   "execution_count": 84,
   "metadata": {
    "execution": {
     "iopub.execute_input": "2023-05-28T03:37:43.515991Z",
     "iopub.status.busy": "2023-05-28T03:37:43.514993Z",
     "iopub.status.idle": "2023-05-28T03:37:43.540282Z",
     "shell.execute_reply": "2023-05-28T03:37:43.539284Z",
     "shell.execute_reply.started": "2023-05-28T03:37:43.515991Z"
    },
    "tags": []
   },
   "outputs": [
    {
     "name": "stdout",
     "output_type": "stream",
     "text": [
      "text        Check these out: http://t.co/rOI2NSmEJJ http://t.co/3Tj8ZjiN21 http://t.co/YDUiXEfIpE http://t.co/LxTjc87KLS #nsfw\n",
      "text_new                                                                                                      check out: #nsfw\n",
      "Name: 40, dtype: object\n"
     ]
    }
   ],
   "source": [
    "# Check cleaning result\n",
    "pd.set_option('display.max_colwidth', None)\n",
    "print(df_train.loc[40, ['text', 'text_new']])"
   ]
  },
  {
   "cell_type": "markdown",
   "metadata": {},
   "source": [
    "## DATA PROCESSING"
   ]
  },
  {
   "cell_type": "markdown",
   "metadata": {},
   "source": [
    "### Word corpus and Embedding Dictionary"
   ]
  },
  {
   "cell_type": "code",
   "execution_count": 13,
   "metadata": {
    "execution": {
     "iopub.execute_input": "2023-05-27T14:41:57.911222Z",
     "iopub.status.busy": "2023-05-27T14:41:57.911222Z",
     "iopub.status.idle": "2023-05-27T14:41:59.325175Z",
     "shell.execute_reply": "2023-05-27T14:41:59.324169Z",
     "shell.execute_reply.started": "2023-05-27T14:41:57.911222Z"
    },
    "tags": []
   },
   "outputs": [
    {
     "name": "stderr",
     "output_type": "stream",
     "text": [
      "100%|████████████████████████████████████████████████████████████████████████████| 7613/7613 [00:01<00:00, 5449.55it/s]\n"
     ]
    }
   ],
   "source": [
    "# Create Words Tokens\n",
    "\n",
    "# Tokenize the tweets in the 'text_new' column and save them as a list of lists\n",
    "def create_tokens(dataset):\n",
    "    \n",
    "    tmp_tokens =[]\n",
    "\n",
    "    for sentence in tqdm(dataset['text_new']):\n",
    "        words = [ word.lower() for word in word_tokenize(sentence) if (word.isalpha() == 1 ) & (word not in stop_words) ]\n",
    "        tmp_tokens.append(words)\n",
    "    \n",
    "    return tmp_tokens\n",
    "    \n",
    "\n",
    "tokens = create_tokens(df_train)"
   ]
  },
  {
   "cell_type": "code",
   "execution_count": 14,
   "metadata": {
    "execution": {
     "iopub.execute_input": "2023-05-27T14:41:59.327130Z",
     "iopub.status.busy": "2023-05-27T14:41:59.327130Z",
     "iopub.status.idle": "2023-05-27T14:41:59.341166Z",
     "shell.execute_reply": "2023-05-27T14:41:59.340263Z",
     "shell.execute_reply.started": "2023-05-27T14:41:59.327130Z"
    },
    "tags": []
   },
   "outputs": [
    {
     "data": {
      "text/plain": [
       "['deeds', 'reason', 'earthquake', 'may', 'allah', 'forgive', 'us']"
      ]
     },
     "execution_count": 14,
     "metadata": {},
     "output_type": "execute_result"
    }
   ],
   "source": [
    "tokens[0]"
   ]
  },
  {
   "cell_type": "code",
   "execution_count": 15,
   "metadata": {
    "execution": {
     "iopub.execute_input": "2023-05-27T14:41:59.343185Z",
     "iopub.status.busy": "2023-05-27T14:41:59.342163Z",
     "iopub.status.idle": "2023-05-27T14:41:59.356133Z",
     "shell.execute_reply": "2023-05-27T14:41:59.355128Z",
     "shell.execute_reply.started": "2023-05-27T14:41:59.343185Z"
    },
    "tags": []
   },
   "outputs": [
    {
     "name": "stdout",
     "output_type": "stream",
     "text": [
      "id                                                                              1\n",
      "keyword                                                                       NaN\n",
      "location                                                                      NaN\n",
      "text        Our Deeds are the Reason of this #earthquake May ALLAH Forgive us all\n",
      "target                                                                          1\n",
      "text_new                            deeds reason #earthquake may allah forgive us\n",
      "Name: 0, dtype: object\n"
     ]
    }
   ],
   "source": [
    "print(df_train.iloc[0])"
   ]
  },
  {
   "cell_type": "code",
   "execution_count": 16,
   "metadata": {
    "execution": {
     "iopub.execute_input": "2023-05-27T14:41:59.358645Z",
     "iopub.status.busy": "2023-05-27T14:41:59.358122Z",
     "iopub.status.idle": "2023-05-27T14:42:48.597307Z",
     "shell.execute_reply": "2023-05-27T14:42:48.596515Z",
     "shell.execute_reply.started": "2023-05-27T14:41:59.358645Z"
    }
   },
   "outputs": [],
   "source": [
    "# Create Embedding Dictionary\n",
    "\n",
    "embedding_dict={}\n",
    "with open('./data/glove.twitter.27B.100d.txt','r', encoding='utf8') as f:\n",
    "    for line in f:\n",
    "        values=line.split()\n",
    "        word=values[0]\n",
    "        vectors=np.asarray(values[1:],'float32')\n",
    "        embedding_dict[word]=vectors\n",
    "f.close()"
   ]
  },
  {
   "cell_type": "code",
   "execution_count": 17,
   "metadata": {
    "execution": {
     "iopub.execute_input": "2023-05-27T14:42:48.599010Z",
     "iopub.status.busy": "2023-05-27T14:42:48.599010Z",
     "iopub.status.idle": "2023-05-27T14:42:48.766496Z",
     "shell.execute_reply": "2023-05-27T14:42:48.766496Z",
     "shell.execute_reply.started": "2023-05-27T14:42:48.599010Z"
    },
    "tags": []
   },
   "outputs": [],
   "source": [
    "# Tokenize : break the sentence into single word/token\n",
    "# texts_to_sequences : convert tokenized word into an encoded sequnce\n",
    "# pad_sequence : change the length of sequence by either adding or truncating\n",
    "\n",
    "MAX_LEN = 20 \n",
    "tokenizer = Tokenizer()\n",
    "tokenizer.fit_on_texts(tokens)\n",
    "\n",
    "sequences = tokenizer.texts_to_sequences(tokens)\n",
    "\n",
    "corpus_pad = pad_sequences(sequences, maxlen=MAX_LEN, truncating='post', padding='post')"
   ]
  },
  {
   "cell_type": "code",
   "execution_count": 18,
   "metadata": {
    "execution": {
     "iopub.execute_input": "2023-05-27T14:42:48.767435Z",
     "iopub.status.busy": "2023-05-27T14:42:48.767435Z",
     "iopub.status.idle": "2023-05-27T14:42:48.783875Z",
     "shell.execute_reply": "2023-05-27T14:42:48.781883Z",
     "shell.execute_reply.started": "2023-05-27T14:42:48.767435Z"
    },
    "tags": []
   },
   "outputs": [
    {
     "name": "stdout",
     "output_type": "stream",
     "text": [
      "Number of unique words : 14927\n"
     ]
    }
   ],
   "source": [
    "# Unique words present\n",
    "word_index = tokenizer.word_index\n",
    "print(f\"Number of unique words : {len(word_index)}\")"
   ]
  },
  {
   "cell_type": "code",
   "execution_count": 19,
   "metadata": {
    "execution": {
     "iopub.execute_input": "2023-05-27T14:42:48.784912Z",
     "iopub.status.busy": "2023-05-27T14:42:48.784912Z",
     "iopub.status.idle": "2023-05-27T14:42:48.798638Z",
     "shell.execute_reply": "2023-05-27T14:42:48.797645Z",
     "shell.execute_reply.started": "2023-05-27T14:42:48.784912Z"
    },
    "tags": []
   },
   "outputs": [
    {
     "data": {
      "text/plain": [
       "(7613, 20)"
      ]
     },
     "execution_count": 19,
     "metadata": {},
     "output_type": "execute_result"
    }
   ],
   "source": [
    "corpus_pad.shape"
   ]
  },
  {
   "cell_type": "code",
   "execution_count": 20,
   "metadata": {
    "execution": {
     "iopub.execute_input": "2023-05-27T14:42:48.799636Z",
     "iopub.status.busy": "2023-05-27T14:42:48.799636Z",
     "iopub.status.idle": "2023-05-27T14:42:48.813471Z",
     "shell.execute_reply": "2023-05-27T14:42:48.813471Z",
     "shell.execute_reply.started": "2023-05-27T14:42:48.799636Z"
    },
    "tags": []
   },
   "outputs": [
    {
     "data": {
      "text/plain": [
       "array([[4063,  673,  152, ...,    0,    0,    0],\n",
       "       [  92,    2,  126, ...,    0,    0,    0],\n",
       "       [1490, 1372,  515, ...,    0,    0,    0],\n",
       "       ...,\n",
       "       [1360,  454, 1361, ...,    0,    0,    0],\n",
       "       [  12,  932,  210, ...,    0,    0,    0],\n",
       "       [ 108,  102,  403, ...,    0,    0,    0]])"
      ]
     },
     "execution_count": 20,
     "metadata": {},
     "output_type": "execute_result"
    }
   ],
   "source": [
    "corpus_pad"
   ]
  },
  {
   "cell_type": "code",
   "execution_count": 21,
   "metadata": {
    "execution": {
     "iopub.execute_input": "2023-05-27T14:42:48.815465Z",
     "iopub.status.busy": "2023-05-27T14:42:48.814470Z",
     "iopub.status.idle": "2023-05-27T14:42:48.830434Z",
     "shell.execute_reply": "2023-05-27T14:42:48.829519Z",
     "shell.execute_reply.started": "2023-05-27T14:42:48.815465Z"
    },
    "tags": []
   },
   "outputs": [
    {
     "data": {
      "text/plain": [
       "[4063, 673, 152, 53, 1371, 4064, 17]"
      ]
     },
     "execution_count": 21,
     "metadata": {},
     "output_type": "execute_result"
    }
   ],
   "source": [
    "sequences[0]"
   ]
  },
  {
   "cell_type": "code",
   "execution_count": 22,
   "metadata": {
    "execution": {
     "iopub.execute_input": "2023-05-27T14:42:48.831423Z",
     "iopub.status.busy": "2023-05-27T14:42:48.831423Z",
     "iopub.status.idle": "2023-05-27T14:42:48.892606Z",
     "shell.execute_reply": "2023-05-27T14:42:48.892606Z",
     "shell.execute_reply.started": "2023-05-27T14:42:48.831423Z"
    },
    "tags": []
   },
   "outputs": [
    {
     "name": "stderr",
     "output_type": "stream",
     "text": [
      "100%|████████████████████████████████████████████████████████████████████████| 14927/14927 [00:00<00:00, 353981.62it/s]\n"
     ]
    }
   ],
   "source": [
    "# Creating embedding matrix with GloVe using enbedding_dict we created above\n",
    "num_words=len(word_index)+1\n",
    "embedding_matrix=np.zeros((num_words,100))\n",
    "\n",
    "for word,i in tqdm(word_index.items()):\n",
    "    if i > num_words:\n",
    "        continue\n",
    "    \n",
    "    emb_vec=embedding_dict.get(word)\n",
    "    if emb_vec is not None:\n",
    "        embedding_matrix[i]=emb_vec"
   ]
  },
  {
   "cell_type": "markdown",
   "metadata": {
    "execution": {
     "iopub.execute_input": "2023-05-28T02:17:33.139572Z",
     "iopub.status.busy": "2023-05-28T02:17:33.139572Z",
     "iopub.status.idle": "2023-05-28T02:17:33.146676Z",
     "shell.execute_reply": "2023-05-28T02:17:33.146676Z",
     "shell.execute_reply.started": "2023-05-28T02:17:33.139572Z"
    },
    "tags": []
   },
   "source": [
    "# MODELING AND EVALUATION"
   ]
  },
  {
   "cell_type": "markdown",
   "metadata": {},
   "source": [
    "**In this work we will practice 2 kinds of recurrent neural networks (RNNs)**\n",
    "**and see which algorithm has higher accuracy**\n",
    "\n",
    "* LSTM (Long Short-Term Memory)\n",
    "* GRU (Gated Recurrent Unit)\n"
   ]
  },
  {
   "cell_type": "markdown",
   "metadata": {},
   "source": [
    "## Build Model: LSTM"
   ]
  },
  {
   "cell_type": "code",
   "execution_count": 23,
   "metadata": {
    "execution": {
     "iopub.execute_input": "2023-05-27T14:42:48.894559Z",
     "iopub.status.busy": "2023-05-27T14:42:48.894559Z",
     "iopub.status.idle": "2023-05-27T14:42:49.436495Z",
     "shell.execute_reply": "2023-05-27T14:42:49.436495Z",
     "shell.execute_reply.started": "2023-05-27T14:42:48.894559Z"
    },
    "tags": []
   },
   "outputs": [
    {
     "name": "stdout",
     "output_type": "stream",
     "text": [
      "Model: \"sequential\"\n",
      "_________________________________________________________________\n",
      " Layer (type)                Output Shape              Param #   \n",
      "=================================================================\n",
      " embedding (Embedding)       (None, 20, 100)           1492800   \n",
      "                                                                 \n",
      " spatial_dropout1d (SpatialD  (None, 20, 100)          0         \n",
      " ropout1D)                                                       \n",
      "                                                                 \n",
      " lstm (LSTM)                 (None, 64)                42240     \n",
      "                                                                 \n",
      " dense (Dense)               (None, 1)                 65        \n",
      "                                                                 \n",
      "=================================================================\n",
      "Total params: 1,535,105\n",
      "Trainable params: 42,305\n",
      "Non-trainable params: 1,492,800\n",
      "_________________________________________________________________\n"
     ]
    }
   ],
   "source": [
    "# Long Short Term Memory network.\n",
    "\n",
    "# We need sequential model to process sequence of text data\n",
    "model=Sequential()\n",
    "\n",
    "# Embedding(input_dimension, output_dimension,embeddings_initializer = initialize the embedding matrix we created, trainable = do not train)\n",
    "embedding=Embedding(num_words,100,\n",
    "                    embeddings_initializer=Constant(embedding_matrix),\n",
    "                    input_length=MAX_LEN,\n",
    "                    trainable=False)\n",
    "# Adding Embedding Layer\n",
    "model.add(embedding)\n",
    "\n",
    "# Drops 40% of entire row\n",
    "model.add(SpatialDropout1D(0.4))\n",
    "\n",
    "# Recurrent Layer LSTM(dimensionality of the output space, dropout = 20%, recurrent_dropout = 20%) \n",
    "model.add(LSTM(64, dropout=0.2, recurrent_dropout=0.2))\n",
    "\n",
    "# Decide what we are going to output Dense(units, activation function)\n",
    "model.add(Dense(1, activation='sigmoid'))\n",
    "\n",
    "# Compile the model compile(loss = binary crossentropy, use Adam(adaptive moment estimation) optimizer with learning rate 1e-3,evaluate based on accuracy)\n",
    "model.compile(loss='binary_crossentropy',optimizer=Adam(learning_rate=1e-4),metrics=['accuracy'])\n",
    "\n",
    "model.summary()"
   ]
  },
  {
   "cell_type": "code",
   "execution_count": 24,
   "metadata": {
    "execution": {
     "iopub.execute_input": "2023-05-27T14:42:49.437463Z",
     "iopub.status.busy": "2023-05-27T14:42:49.437463Z",
     "iopub.status.idle": "2023-05-27T14:42:49.452779Z",
     "shell.execute_reply": "2023-05-27T14:42:49.451782Z",
     "shell.execute_reply.started": "2023-05-27T14:42:49.437463Z"
    },
    "tags": []
   },
   "outputs": [
    {
     "name": "stdout",
     "output_type": "stream",
     "text": [
      "Shape of train (5709, 20)\n",
      "Shape of Validation  (1904, 20)\n",
      "Shape of train (5709,)\n",
      "Shape of Validation  (1904,)\n"
     ]
    }
   ],
   "source": [
    "X_train,X_test,y_train,y_test = train_test_split(corpus_pad, df_train['target'].values, test_size = 0.25, random_state = 0 )\n",
    "\n",
    "print('Shape of train',X_train.shape)\n",
    "print(\"Shape of Validation \",X_test.shape)\n",
    "\n",
    "print('Shape of train',y_train.shape)\n",
    "print(\"Shape of Validation \",y_test.shape)"
   ]
  },
  {
   "cell_type": "code",
   "execution_count": 25,
   "metadata": {
    "execution": {
     "iopub.execute_input": "2023-05-27T14:42:49.453778Z",
     "iopub.status.busy": "2023-05-27T14:42:49.453778Z",
     "iopub.status.idle": "2023-05-27T14:44:20.056324Z",
     "shell.execute_reply": "2023-05-27T14:44:20.056324Z",
     "shell.execute_reply.started": "2023-05-27T14:42:49.453778Z"
    },
    "tags": []
   },
   "outputs": [
    {
     "name": "stdout",
     "output_type": "stream",
     "text": [
      "Epoch 1/30\n",
      "179/179 - 6s - loss: 0.6723 - accuracy: 0.6421 - val_loss: 0.5786 - val_accuracy: 0.7647 - 6s/epoch - 35ms/step\n",
      "Epoch 2/30\n",
      "179/179 - 3s - loss: 0.5276 - accuracy: 0.7541 - val_loss: 0.4815 - val_accuracy: 0.7778 - 3s/epoch - 15ms/step\n",
      "Epoch 3/30\n",
      "179/179 - 3s - loss: 0.4880 - accuracy: 0.7770 - val_loss: 0.4811 - val_accuracy: 0.7862 - 3s/epoch - 15ms/step\n",
      "Epoch 4/30\n",
      "179/179 - 3s - loss: 0.4757 - accuracy: 0.7831 - val_loss: 0.4706 - val_accuracy: 0.7941 - 3s/epoch - 15ms/step\n",
      "Epoch 5/30\n",
      "179/179 - 3s - loss: 0.4774 - accuracy: 0.7819 - val_loss: 0.4660 - val_accuracy: 0.7931 - 3s/epoch - 15ms/step\n",
      "Epoch 6/30\n",
      "179/179 - 3s - loss: 0.4748 - accuracy: 0.7831 - val_loss: 0.4577 - val_accuracy: 0.7962 - 3s/epoch - 15ms/step\n",
      "Epoch 7/30\n",
      "179/179 - 3s - loss: 0.4715 - accuracy: 0.7867 - val_loss: 0.4621 - val_accuracy: 0.7973 - 3s/epoch - 15ms/step\n",
      "Epoch 8/30\n",
      "179/179 - 3s - loss: 0.4690 - accuracy: 0.7860 - val_loss: 0.4620 - val_accuracy: 0.7967 - 3s/epoch - 16ms/step\n",
      "Epoch 9/30\n",
      "179/179 - 3s - loss: 0.4639 - accuracy: 0.7867 - val_loss: 0.4614 - val_accuracy: 0.7978 - 3s/epoch - 17ms/step\n",
      "Epoch 10/30\n",
      "179/179 - 3s - loss: 0.4644 - accuracy: 0.7874 - val_loss: 0.4669 - val_accuracy: 0.7973 - 3s/epoch - 17ms/step\n",
      "Epoch 11/30\n",
      "179/179 - 3s - loss: 0.4688 - accuracy: 0.7860 - val_loss: 0.4566 - val_accuracy: 0.8015 - 3s/epoch - 18ms/step\n",
      "Epoch 12/30\n",
      "179/179 - 3s - loss: 0.4647 - accuracy: 0.7853 - val_loss: 0.4574 - val_accuracy: 0.7983 - 3s/epoch - 17ms/step\n",
      "Epoch 13/30\n",
      "179/179 - 3s - loss: 0.4612 - accuracy: 0.7905 - val_loss: 0.4574 - val_accuracy: 0.8004 - 3s/epoch - 17ms/step\n",
      "Epoch 14/30\n",
      "179/179 - 3s - loss: 0.4587 - accuracy: 0.7928 - val_loss: 0.4580 - val_accuracy: 0.7967 - 3s/epoch - 16ms/step\n",
      "Epoch 15/30\n",
      "179/179 - 3s - loss: 0.4642 - accuracy: 0.7884 - val_loss: 0.4583 - val_accuracy: 0.7978 - 3s/epoch - 16ms/step\n",
      "Epoch 16/30\n",
      "179/179 - 3s - loss: 0.4568 - accuracy: 0.7931 - val_loss: 0.4597 - val_accuracy: 0.7952 - 3s/epoch - 16ms/step\n",
      "Epoch 17/30\n",
      "179/179 - 3s - loss: 0.4555 - accuracy: 0.7882 - val_loss: 0.4597 - val_accuracy: 0.7941 - 3s/epoch - 16ms/step\n",
      "Epoch 18/30\n",
      "179/179 - 3s - loss: 0.4612 - accuracy: 0.7888 - val_loss: 0.4660 - val_accuracy: 0.7920 - 3s/epoch - 16ms/step\n",
      "Epoch 19/30\n",
      "179/179 - 3s - loss: 0.4542 - accuracy: 0.7928 - val_loss: 0.4495 - val_accuracy: 0.8041 - 3s/epoch - 16ms/step\n",
      "Epoch 20/30\n",
      "179/179 - 3s - loss: 0.4582 - accuracy: 0.7891 - val_loss: 0.4471 - val_accuracy: 0.8072 - 3s/epoch - 17ms/step\n",
      "Epoch 21/30\n",
      "179/179 - 3s - loss: 0.4517 - accuracy: 0.7921 - val_loss: 0.4464 - val_accuracy: 0.8057 - 3s/epoch - 17ms/step\n",
      "Epoch 22/30\n",
      "179/179 - 3s - loss: 0.4470 - accuracy: 0.8001 - val_loss: 0.4554 - val_accuracy: 0.7999 - 3s/epoch - 16ms/step\n",
      "Epoch 23/30\n",
      "179/179 - 3s - loss: 0.4444 - accuracy: 0.7993 - val_loss: 0.4698 - val_accuracy: 0.7967 - 3s/epoch - 17ms/step\n",
      "Epoch 24/30\n",
      "179/179 - 3s - loss: 0.4391 - accuracy: 0.7996 - val_loss: 0.4541 - val_accuracy: 0.8036 - 3s/epoch - 17ms/step\n",
      "Epoch 25/30\n",
      "179/179 - 3s - loss: 0.4497 - accuracy: 0.7933 - val_loss: 0.4493 - val_accuracy: 0.8015 - 3s/epoch - 16ms/step\n",
      "Epoch 26/30\n",
      "179/179 - 3s - loss: 0.4479 - accuracy: 0.7963 - val_loss: 0.4456 - val_accuracy: 0.8051 - 3s/epoch - 17ms/step\n",
      "Epoch 27/30\n",
      "179/179 - 3s - loss: 0.4445 - accuracy: 0.7886 - val_loss: 0.4504 - val_accuracy: 0.8020 - 3s/epoch - 16ms/step\n",
      "Epoch 28/30\n",
      "179/179 - 3s - loss: 0.4418 - accuracy: 0.7987 - val_loss: 0.4504 - val_accuracy: 0.8036 - 3s/epoch - 16ms/step\n",
      "Epoch 29/30\n",
      "179/179 - 3s - loss: 0.4427 - accuracy: 0.7986 - val_loss: 0.4550 - val_accuracy: 0.8015 - 3s/epoch - 17ms/step\n",
      "Epoch 30/30\n",
      "179/179 - 3s - loss: 0.4470 - accuracy: 0.7977 - val_loss: 0.4480 - val_accuracy: 0.8025 - 3s/epoch - 16ms/step\n"
     ]
    }
   ],
   "source": [
    "history=model.fit(X_train,y_train,batch_size=32,epochs=30,validation_data=(X_test,y_test),verbose=2)"
   ]
  },
  {
   "cell_type": "code",
   "execution_count": 26,
   "metadata": {
    "execution": {
     "iopub.execute_input": "2023-05-27T14:44:20.058278Z",
     "iopub.status.busy": "2023-05-27T14:44:20.058192Z",
     "iopub.status.idle": "2023-05-27T14:44:20.304359Z",
     "shell.execute_reply": "2023-05-27T14:44:20.304126Z",
     "shell.execute_reply.started": "2023-05-27T14:44:20.058278Z"
    },
    "tags": []
   },
   "outputs": [
    {
     "data": {
      "image/png": "[encoded data removed]",
      "text/plain": [
       "<Figure size 432x288 with 1 Axes>"
      ]
     },
     "metadata": {
      "needs_background": "light"
     },
     "output_type": "display_data"
    }
   ],
   "source": [
    "# Accuracy vs Epoch\n",
    "plt.title('Accuracy')\n",
    "plt.plot(history.history['accuracy'], label='train')\n",
    "plt.plot(history.history['val_accuracy'], label='test')\n",
    "plt.legend()\n",
    "plt.show();"
   ]
  },
  {
   "cell_type": "code",
   "execution_count": 27,
   "metadata": {
    "execution": {
     "iopub.execute_input": "2023-05-27T14:44:20.306121Z",
     "iopub.status.busy": "2023-05-27T14:44:20.306121Z",
     "iopub.status.idle": "2023-05-27T14:44:20.537271Z",
     "shell.execute_reply": "2023-05-27T14:44:20.537271Z",
     "shell.execute_reply.started": "2023-05-27T14:44:20.306121Z"
    },
    "tags": []
   },
   "outputs": [
    {
     "data": {
      "image/png": "[encoded data removed]",
      "text/plain": [
       "<Figure size 432x288 with 1 Axes>"
      ]
     },
     "metadata": {
      "needs_background": "light"
     },
     "output_type": "display_data"
    }
   ],
   "source": [
    "# Loss vs Epoch\n",
    "# Visualize learning curve. Here learning curve is not ideal. It should be much smoother as it decreases.\n",
    "\n",
    "epoch_count = range(1, len(history.history['loss']) + 1)\n",
    "plt.plot(epoch_count, history.history['loss'], 'r--')\n",
    "plt.plot(epoch_count, history.history['val_loss'], 'b-')\n",
    "plt.legend(['Training Loss', 'Validation Loss'])\n",
    "plt.xlabel('Epoch')\n",
    "plt.ylabel('Loss')\n",
    "plt.show()"
   ]
  },
  {
   "cell_type": "markdown",
   "metadata": {},
   "source": [
    "### Prediction"
   ]
  },
  {
   "cell_type": "code",
   "execution_count": 85,
   "metadata": {
    "execution": {
     "iopub.execute_input": "2023-05-28T03:38:17.896866Z",
     "iopub.status.busy": "2023-05-28T03:38:17.895869Z",
     "iopub.status.idle": "2023-05-28T03:38:18.276840Z",
     "shell.execute_reply": "2023-05-28T03:38:18.275968Z",
     "shell.execute_reply.started": "2023-05-28T03:38:17.896866Z"
    },
    "tags": []
   },
   "outputs": [],
   "source": [
    "# Clean Test data\n",
    "\n",
    "\n",
    "# apply the clean_tweet function to the 'text' column and save the cleaned text in 'text_new' column\n",
    "df_test['text_new'] = df_test['text'].apply(clean_tweet)\n",
    "\n"
   ]
  },
  {
   "cell_type": "code",
   "execution_count": 29,
   "metadata": {
    "execution": {
     "iopub.execute_input": "2023-05-27T14:44:20.838287Z",
     "iopub.status.busy": "2023-05-27T14:44:20.837262Z",
     "iopub.status.idle": "2023-05-27T14:44:21.459465Z",
     "shell.execute_reply": "2023-05-27T14:44:21.458948Z",
     "shell.execute_reply.started": "2023-05-27T14:44:20.838287Z"
    }
   },
   "outputs": [
    {
     "name": "stderr",
     "output_type": "stream",
     "text": [
      "100%|████████████████████████████████████████████████████████████████████████████| 3263/3263 [00:00<00:00, 5450.74it/s]\n"
     ]
    }
   ],
   "source": [
    "# Creating test tokens\n",
    "\n",
    "test_tokens = create_tokens(df_test)\n"
   ]
  },
  {
   "cell_type": "code",
   "execution_count": 30,
   "metadata": {
    "execution": {
     "iopub.execute_input": "2023-05-27T14:44:21.461792Z",
     "iopub.status.busy": "2023-05-27T14:44:21.461453Z",
     "iopub.status.idle": "2023-05-27T14:44:21.490376Z",
     "shell.execute_reply": "2023-05-27T14:44:21.489563Z",
     "shell.execute_reply.started": "2023-05-27T14:44:21.461792Z"
    }
   },
   "outputs": [],
   "source": [
    "# Encoding Test Text to Sequences\n",
    "test_sequences = tokenizer.texts_to_sequences(test_tokens)\n",
    "\n",
    "test_corpus_pad = pad_sequences(test_sequences, maxlen=MAX_LEN, truncating='post', padding='post')"
   ]
  },
  {
   "cell_type": "code",
   "execution_count": 31,
   "metadata": {
    "execution": {
     "iopub.execute_input": "2023-05-27T14:44:21.491374Z",
     "iopub.status.busy": "2023-05-27T14:44:21.491374Z",
     "iopub.status.idle": "2023-05-27T14:44:22.290250Z",
     "shell.execute_reply": "2023-05-27T14:44:22.289248Z",
     "shell.execute_reply.started": "2023-05-27T14:44:21.491374Z"
    }
   },
   "outputs": [
    {
     "name": "stdout",
     "output_type": "stream",
     "text": [
      "102/102 [==============================] - 1s 3ms/step\n"
     ]
    }
   ],
   "source": [
    "# Predictions\n",
    "predictions = model.predict(test_corpus_pad)\n",
    "predictions = np.round(predictions).astype(int).reshape(3263)"
   ]
  },
  {
   "cell_type": "code",
   "execution_count": 32,
   "metadata": {
    "execution": {
     "iopub.execute_input": "2023-05-27T14:44:22.292245Z",
     "iopub.status.busy": "2023-05-27T14:44:22.291247Z",
     "iopub.status.idle": "2023-05-27T14:44:22.319428Z",
     "shell.execute_reply": "2023-05-27T14:44:22.319428Z",
     "shell.execute_reply.started": "2023-05-27T14:44:22.292245Z"
    }
   },
   "outputs": [
    {
     "data": {
      "text/html": [
       "<div>\n",
       "<style scoped>\n",
       "    .dataframe tbody tr th:only-of-type {\n",
       "        vertical-align: middle;\n",
       "    }\n",
       "\n",
       "    .dataframe tbody tr th {\n",
       "        vertical-align: top;\n",
       "    }\n",
       "\n",
       "    .dataframe thead th {\n",
       "        text-align: right;\n",
       "    }\n",
       "</style>\n",
       "<table border=\"1\" class=\"dataframe\">\n",
       "  <thead>\n",
       "    <tr style=\"text-align: right;\">\n",
       "      <th></th>\n",
       "      <th>id</th>\n",
       "      <th>target</th>\n",
       "    </tr>\n",
       "  </thead>\n",
       "  <tbody>\n",
       "    <tr>\n",
       "      <th>0</th>\n",
       "      <td>0</td>\n",
       "      <td>1</td>\n",
       "    </tr>\n",
       "    <tr>\n",
       "      <th>1</th>\n",
       "      <td>2</td>\n",
       "      <td>1</td>\n",
       "    </tr>\n",
       "    <tr>\n",
       "      <th>2</th>\n",
       "      <td>3</td>\n",
       "      <td>1</td>\n",
       "    </tr>\n",
       "    <tr>\n",
       "      <th>3</th>\n",
       "      <td>9</td>\n",
       "      <td>1</td>\n",
       "    </tr>\n",
       "    <tr>\n",
       "      <th>4</th>\n",
       "      <td>11</td>\n",
       "      <td>1</td>\n",
       "    </tr>\n",
       "  </tbody>\n",
       "</table>\n",
       "</div>"
      ],
      "text/plain": [
       "   id  target\n",
       "0   0       1\n",
       "1   2       1\n",
       "2   3       1\n",
       "3   9       1\n",
       "4  11       1"
      ]
     },
     "execution_count": 32,
     "metadata": {},
     "output_type": "execute_result"
    }
   ],
   "source": [
    "# Creating submission file \n",
    "submission = pd.DataFrame({'id' : df_test['id'], 'target' : predictions})\n",
    "submission.to_csv('./data/submission.csv', index=False)\n",
    "\n",
    "submission.head()"
   ]
  },
  {
   "cell_type": "markdown",
   "metadata": {},
   "source": [
    "## Build Model: GRU"
   ]
  },
  {
   "cell_type": "code",
   "execution_count": 33,
   "metadata": {
    "execution": {
     "iopub.execute_input": "2023-05-27T14:51:41.367543Z",
     "iopub.status.busy": "2023-05-27T14:51:41.366467Z",
     "iopub.status.idle": "2023-05-27T14:51:41.617032Z",
     "shell.execute_reply": "2023-05-27T14:51:41.617032Z",
     "shell.execute_reply.started": "2023-05-27T14:51:41.367543Z"
    },
    "tags": []
   },
   "outputs": [
    {
     "name": "stdout",
     "output_type": "stream",
     "text": [
      "Model: \"sequential_1\"\n",
      "_________________________________________________________________\n",
      " Layer (type)                Output Shape              Param #   \n",
      "=================================================================\n",
      " embedding_1 (Embedding)     (None, 20, 100)           1492800   \n",
      "                                                                 \n",
      " spatial_dropout1d_1 (Spatia  (None, 20, 100)          0         \n",
      " lDropout1D)                                                     \n",
      "                                                                 \n",
      " gru (GRU)                   (None, 64)                31872     \n",
      "                                                                 \n",
      " dense_1 (Dense)             (None, 1)                 65        \n",
      "                                                                 \n",
      "=================================================================\n",
      "Total params: 1,524,737\n",
      "Trainable params: 31,937\n",
      "Non-trainable params: 1,492,800\n",
      "_________________________________________________________________\n"
     ]
    }
   ],
   "source": [
    "# Try GRU\n",
    "\n",
    "# We need sequential model_gru to process sequence of text data\n",
    "model_gru=Sequential()\n",
    "\n",
    "# Embedding(input_dimension, output_dimension,embeddings_initializer = initialize the embedding matrix we created, trainable = do not train)\n",
    "embedding=Embedding(num_words,100,\n",
    "                    embeddings_initializer=Constant(embedding_matrix),\n",
    "                    input_length=MAX_LEN,\n",
    "                    trainable=False)\n",
    "# Adding Embedding Layer\n",
    "model_gru.add(embedding)\n",
    "\n",
    "# Drops 40% of entire row\n",
    "model_gru.add(SpatialDropout1D(0.4))\n",
    "\n",
    "# Recurrent Layer GRU(dimensionality of the output space, dropout = 20%, recurrent_dropout = 20%) \n",
    "model_gru.add(GRU(64, dropout=0.2, recurrent_dropout=0.2))\n",
    "\n",
    "# Decide what we are going to output Dense(units, activation function)\n",
    "model_gru.add(Dense(1, activation='sigmoid'))\n",
    "\n",
    "# Compile the model_gru compile(loss = binary crossentropy, use Adam(adaptive moment estimation) optimizer with learning rate 1e-3,evaluate based on accuracy)\n",
    "model_gru.compile(loss='binary_crossentropy',optimizer=Adam(learning_rate=1e-4),metrics=['accuracy'])\n",
    "\n",
    "model_gru.summary()"
   ]
  },
  {
   "cell_type": "code",
   "execution_count": 34,
   "metadata": {
    "execution": {
     "iopub.execute_input": "2023-05-27T14:52:27.515527Z",
     "iopub.status.busy": "2023-05-27T14:52:27.515181Z",
     "iopub.status.idle": "2023-05-27T14:53:51.614142Z",
     "shell.execute_reply": "2023-05-27T14:53:51.613147Z",
     "shell.execute_reply.started": "2023-05-27T14:52:27.515527Z"
    },
    "tags": []
   },
   "outputs": [
    {
     "name": "stdout",
     "output_type": "stream",
     "text": [
      "Epoch 1/30\n",
      "179/179 - 6s - loss: 0.6885 - accuracy: 0.5652 - val_loss: 0.6819 - val_accuracy: 0.5825 - 6s/epoch - 32ms/step\n",
      "Epoch 2/30\n",
      "179/179 - 2s - loss: 0.6516 - accuracy: 0.6124 - val_loss: 0.5203 - val_accuracy: 0.7537 - 2s/epoch - 13ms/step\n",
      "Epoch 3/30\n",
      "179/179 - 2s - loss: 0.5077 - accuracy: 0.7646 - val_loss: 0.4850 - val_accuracy: 0.7857 - 2s/epoch - 13ms/step\n",
      "Epoch 4/30\n",
      "179/179 - 2s - loss: 0.4889 - accuracy: 0.7732 - val_loss: 0.4781 - val_accuracy: 0.7904 - 2s/epoch - 13ms/step\n",
      "Epoch 5/30\n",
      "179/179 - 2s - loss: 0.4882 - accuracy: 0.7683 - val_loss: 0.4657 - val_accuracy: 0.7925 - 2s/epoch - 13ms/step\n",
      "Epoch 6/30\n",
      "179/179 - 2s - loss: 0.4830 - accuracy: 0.7756 - val_loss: 0.4737 - val_accuracy: 0.7910 - 2s/epoch - 13ms/step\n",
      "Epoch 7/30\n",
      "179/179 - 2s - loss: 0.4803 - accuracy: 0.7791 - val_loss: 0.4630 - val_accuracy: 0.7910 - 2s/epoch - 14ms/step\n",
      "Epoch 8/30\n",
      "179/179 - 3s - loss: 0.4787 - accuracy: 0.7784 - val_loss: 0.4642 - val_accuracy: 0.7915 - 3s/epoch - 15ms/step\n",
      "Epoch 9/30\n",
      "179/179 - 2s - loss: 0.4724 - accuracy: 0.7846 - val_loss: 0.4704 - val_accuracy: 0.7946 - 2s/epoch - 14ms/step\n",
      "Epoch 10/30\n",
      "179/179 - 3s - loss: 0.4741 - accuracy: 0.7854 - val_loss: 0.4620 - val_accuracy: 0.7925 - 3s/epoch - 14ms/step\n",
      "Epoch 11/30\n",
      "179/179 - 3s - loss: 0.4755 - accuracy: 0.7809 - val_loss: 0.4632 - val_accuracy: 0.7952 - 3s/epoch - 18ms/step\n",
      "Epoch 12/30\n",
      "179/179 - 3s - loss: 0.4744 - accuracy: 0.7784 - val_loss: 0.4599 - val_accuracy: 0.7957 - 3s/epoch - 18ms/step\n",
      "Epoch 13/30\n",
      "179/179 - 3s - loss: 0.4679 - accuracy: 0.7861 - val_loss: 0.4615 - val_accuracy: 0.7994 - 3s/epoch - 16ms/step\n",
      "Epoch 14/30\n",
      "179/179 - 3s - loss: 0.4676 - accuracy: 0.7835 - val_loss: 0.4677 - val_accuracy: 0.7941 - 3s/epoch - 16ms/step\n",
      "Epoch 15/30\n",
      "179/179 - 3s - loss: 0.4648 - accuracy: 0.7861 - val_loss: 0.4532 - val_accuracy: 0.7957 - 3s/epoch - 16ms/step\n",
      "Epoch 16/30\n",
      "179/179 - 3s - loss: 0.4673 - accuracy: 0.7849 - val_loss: 0.4540 - val_accuracy: 0.7962 - 3s/epoch - 15ms/step\n",
      "Epoch 17/30\n",
      "179/179 - 3s - loss: 0.4656 - accuracy: 0.7888 - val_loss: 0.4625 - val_accuracy: 0.7957 - 3s/epoch - 15ms/step\n",
      "Epoch 18/30\n",
      "179/179 - 3s - loss: 0.4540 - accuracy: 0.7928 - val_loss: 0.4701 - val_accuracy: 0.7957 - 3s/epoch - 15ms/step\n",
      "Epoch 19/30\n",
      "179/179 - 3s - loss: 0.4653 - accuracy: 0.7909 - val_loss: 0.4574 - val_accuracy: 0.7957 - 3s/epoch - 16ms/step\n",
      "Epoch 20/30\n",
      "179/179 - 3s - loss: 0.4648 - accuracy: 0.7863 - val_loss: 0.4622 - val_accuracy: 0.7936 - 3s/epoch - 16ms/step\n",
      "Epoch 21/30\n",
      "179/179 - 3s - loss: 0.4658 - accuracy: 0.7856 - val_loss: 0.4617 - val_accuracy: 0.7957 - 3s/epoch - 16ms/step\n",
      "Epoch 22/30\n",
      "179/179 - 3s - loss: 0.4557 - accuracy: 0.7949 - val_loss: 0.4670 - val_accuracy: 0.7957 - 3s/epoch - 15ms/step\n",
      "Epoch 23/30\n",
      "179/179 - 3s - loss: 0.4578 - accuracy: 0.7966 - val_loss: 0.4591 - val_accuracy: 0.7978 - 3s/epoch - 16ms/step\n",
      "Epoch 24/30\n",
      "179/179 - 3s - loss: 0.4609 - accuracy: 0.7926 - val_loss: 0.4634 - val_accuracy: 0.7978 - 3s/epoch - 16ms/step\n",
      "Epoch 25/30\n",
      "179/179 - 3s - loss: 0.4604 - accuracy: 0.7853 - val_loss: 0.4559 - val_accuracy: 0.7999 - 3s/epoch - 15ms/step\n",
      "Epoch 26/30\n",
      "179/179 - 3s - loss: 0.4582 - accuracy: 0.7926 - val_loss: 0.4554 - val_accuracy: 0.8009 - 3s/epoch - 18ms/step\n",
      "Epoch 27/30\n",
      "179/179 - 3s - loss: 0.4552 - accuracy: 0.7923 - val_loss: 0.4575 - val_accuracy: 0.7988 - 3s/epoch - 15ms/step\n",
      "Epoch 28/30\n",
      "179/179 - 3s - loss: 0.4558 - accuracy: 0.7966 - val_loss: 0.4647 - val_accuracy: 0.7946 - 3s/epoch - 15ms/step\n",
      "Epoch 29/30\n",
      "179/179 - 3s - loss: 0.4577 - accuracy: 0.7912 - val_loss: 0.4516 - val_accuracy: 0.8004 - 3s/epoch - 15ms/step\n",
      "Epoch 30/30\n",
      "179/179 - 3s - loss: 0.4592 - accuracy: 0.7893 - val_loss: 0.4680 - val_accuracy: 0.7899 - 3s/epoch - 15ms/step\n"
     ]
    }
   ],
   "source": [
    "history=model_gru.fit(X_train,y_train,batch_size=32,epochs=30,validation_data=(X_test,y_test),verbose=2)"
   ]
  },
  {
   "cell_type": "code",
   "execution_count": 35,
   "metadata": {
    "execution": {
     "iopub.execute_input": "2023-05-27T14:54:24.146675Z",
     "iopub.status.busy": "2023-05-27T14:54:24.146675Z",
     "iopub.status.idle": "2023-05-27T14:54:24.353592Z",
     "shell.execute_reply": "2023-05-27T14:54:24.352679Z",
     "shell.execute_reply.started": "2023-05-27T14:54:24.146675Z"
    },
    "tags": []
   },
   "outputs": [
    {
     "data": {
      "image/png": "[encoded data removed]",
      "text/plain": [
       "<Figure size 432x288 with 1 Axes>"
      ]
     },
     "metadata": {
      "needs_background": "light"
     },
     "output_type": "display_data"
    }
   ],
   "source": [
    "# Accuracy vs Epoch\n",
    "plt.title('Accuracy')\n",
    "plt.plot(history.history['accuracy'], label='train')\n",
    "plt.plot(history.history['val_accuracy'], label='test')\n",
    "plt.legend()\n",
    "plt.show();"
   ]
  },
  {
   "cell_type": "code",
   "execution_count": 36,
   "metadata": {
    "execution": {
     "iopub.execute_input": "2023-05-27T14:55:41.839181Z",
     "iopub.status.busy": "2023-05-27T14:55:41.839181Z",
     "iopub.status.idle": "2023-05-27T14:55:42.781897Z",
     "shell.execute_reply": "2023-05-27T14:55:42.781224Z",
     "shell.execute_reply.started": "2023-05-27T14:55:41.839181Z"
    },
    "tags": []
   },
   "outputs": [
    {
     "name": "stdout",
     "output_type": "stream",
     "text": [
      "102/102 [==============================] - 1s 3ms/step\n"
     ]
    },
    {
     "data": {
      "text/html": [
       "<div>\n",
       "<style scoped>\n",
       "    .dataframe tbody tr th:only-of-type {\n",
       "        vertical-align: middle;\n",
       "    }\n",
       "\n",
       "    .dataframe tbody tr th {\n",
       "        vertical-align: top;\n",
       "    }\n",
       "\n",
       "    .dataframe thead th {\n",
       "        text-align: right;\n",
       "    }\n",
       "</style>\n",
       "<table border=\"1\" class=\"dataframe\">\n",
       "  <thead>\n",
       "    <tr style=\"text-align: right;\">\n",
       "      <th></th>\n",
       "      <th>id</th>\n",
       "      <th>target</th>\n",
       "    </tr>\n",
       "  </thead>\n",
       "  <tbody>\n",
       "    <tr>\n",
       "      <th>0</th>\n",
       "      <td>0</td>\n",
       "      <td>1</td>\n",
       "    </tr>\n",
       "    <tr>\n",
       "      <th>1</th>\n",
       "      <td>2</td>\n",
       "      <td>1</td>\n",
       "    </tr>\n",
       "    <tr>\n",
       "      <th>2</th>\n",
       "      <td>3</td>\n",
       "      <td>1</td>\n",
       "    </tr>\n",
       "    <tr>\n",
       "      <th>3</th>\n",
       "      <td>9</td>\n",
       "      <td>1</td>\n",
       "    </tr>\n",
       "    <tr>\n",
       "      <th>4</th>\n",
       "      <td>11</td>\n",
       "      <td>1</td>\n",
       "    </tr>\n",
       "  </tbody>\n",
       "</table>\n",
       "</div>"
      ],
      "text/plain": [
       "   id  target\n",
       "0   0       1\n",
       "1   2       1\n",
       "2   3       1\n",
       "3   9       1\n",
       "4  11       1"
      ]
     },
     "execution_count": 36,
     "metadata": {},
     "output_type": "execute_result"
    }
   ],
   "source": [
    "# Predictions\n",
    "predictions = model_gru.predict(test_corpus_pad)\n",
    "predictions = np.round(predictions).astype(int).reshape(3263)\n",
    "# Creating submission file \n",
    "submission = pd.DataFrame({'id' : df_test['id'], 'target' : predictions})\n",
    "submission.to_csv('./data/gru_submission.csv', index=False)\n",
    "\n",
    "submission.head()"
   ]
  },
  {
   "cell_type": "markdown",
   "metadata": {},
   "source": [
    "## Try LSTM with learning rate scheduling\n",
    "\n",
    "After submitting the preiction to Kaggle, the result with LSTM is slightly higher than GRU.\n",
    "Let's stick to LSTM and see if we can further improve the performance with learning rate scheduling"
   ]
  },
  {
   "cell_type": "code",
   "execution_count": 41,
   "metadata": {
    "execution": {
     "iopub.execute_input": "2023-05-27T15:33:54.405267Z",
     "iopub.status.busy": "2023-05-27T15:33:54.405267Z",
     "iopub.status.idle": "2023-05-27T15:33:54.655632Z",
     "shell.execute_reply": "2023-05-27T15:33:54.654715Z",
     "shell.execute_reply.started": "2023-05-27T15:33:54.405267Z"
    },
    "tags": []
   },
   "outputs": [
    {
     "name": "stdout",
     "output_type": "stream",
     "text": [
      "Model: \"sequential_3\"\n",
      "_________________________________________________________________\n",
      " Layer (type)                Output Shape              Param #   \n",
      "=================================================================\n",
      " embedding_3 (Embedding)     (None, 20, 100)           1492800   \n",
      "                                                                 \n",
      " spatial_dropout1d_3 (Spatia  (None, 20, 100)          0         \n",
      " lDropout1D)                                                     \n",
      "                                                                 \n",
      " lstm_2 (LSTM)               (None, 64)                42240     \n",
      "                                                                 \n",
      " dense_3 (Dense)             (None, 1)                 65        \n",
      "                                                                 \n",
      "=================================================================\n",
      "Total params: 1,535,105\n",
      "Trainable params: 42,305\n",
      "Non-trainable params: 1,492,800\n",
      "_________________________________________________________________\n"
     ]
    }
   ],
   "source": [
    "# Long Short Term Memory network.\n",
    "\n",
    "# We need sequential model to process sequence of text data\n",
    "model=Sequential()\n",
    "\n",
    "# Embedding(input_dimension, output_dimension,embeddings_initializer = initialize the embedding matrix we created, trainable = do not train)\n",
    "embedding=Embedding(num_words,100,\n",
    "                    embeddings_initializer=Constant(embedding_matrix),\n",
    "                    input_length=MAX_LEN,\n",
    "                    trainable=False)\n",
    "# Adding Embedding Layer\n",
    "model.add(embedding)\n",
    "\n",
    "# Drops 40% of entire row\n",
    "model.add(SpatialDropout1D(0.4))\n",
    "\n",
    "# Recurrent Layer LSTM(dimensionality of the output space, dropout = 20%, recurrent_dropout = 20%) \n",
    "model.add(LSTM(64, dropout=0.2, recurrent_dropout=0.2))\n",
    "\n",
    "# Decide what we are going to output Dense(units, activation function)\n",
    "model.add(Dense(1, activation='sigmoid'))\n",
    "\n",
    "# Compile the model compile(loss = binary crossentropy, use Adam(adaptive moment estimation) optimizer with learning rate 1e-3,evaluate based on accuracy)\n",
    "model.compile(loss='binary_crossentropy',optimizer=Adam(learning_rate=1e-4),metrics=['accuracy'])\n",
    "\n",
    "model.summary()"
   ]
  },
  {
   "cell_type": "code",
   "execution_count": 42,
   "metadata": {
    "execution": {
     "iopub.execute_input": "2023-05-27T15:33:57.557413Z",
     "iopub.status.busy": "2023-05-27T15:33:57.556465Z",
     "iopub.status.idle": "2023-05-27T15:35:36.616845Z",
     "shell.execute_reply": "2023-05-27T15:35:36.616468Z",
     "shell.execute_reply.started": "2023-05-27T15:33:57.557413Z"
    },
    "tags": []
   },
   "outputs": [
    {
     "name": "stdout",
     "output_type": "stream",
     "text": [
      "Epoch 1/30\n",
      "179/179 - 7s - loss: 0.5344 - accuracy: 0.7514 - val_loss: 0.4657 - val_accuracy: 0.7946 - lr: 0.0100 - 7s/epoch - 41ms/step\n",
      "Epoch 2/30\n",
      "179/179 - 3s - loss: 0.4800 - accuracy: 0.7842 - val_loss: 0.4706 - val_accuracy: 0.7768 - lr: 0.0100 - 3s/epoch - 16ms/step\n",
      "Epoch 3/30\n",
      "179/179 - 3s - loss: 0.4643 - accuracy: 0.7868 - val_loss: 0.4472 - val_accuracy: 0.7941 - lr: 0.0100 - 3s/epoch - 16ms/step\n",
      "Epoch 4/30\n",
      "179/179 - 3s - loss: 0.4488 - accuracy: 0.8019 - val_loss: 0.4513 - val_accuracy: 0.8083 - lr: 0.0100 - 3s/epoch - 16ms/step\n",
      "Epoch 5/30\n",
      "179/179 - 3s - loss: 0.4396 - accuracy: 0.7994 - val_loss: 0.4388 - val_accuracy: 0.8067 - lr: 0.0050 - 3s/epoch - 16ms/step\n",
      "Epoch 6/30\n",
      "179/179 - 3s - loss: 0.4266 - accuracy: 0.8084 - val_loss: 0.4479 - val_accuracy: 0.8009 - lr: 0.0050 - 3s/epoch - 16ms/step\n",
      "Epoch 7/30\n",
      "179/179 - 3s - loss: 0.4165 - accuracy: 0.8163 - val_loss: 0.4573 - val_accuracy: 0.8030 - lr: 0.0050 - 3s/epoch - 16ms/step\n",
      "Epoch 8/30\n",
      "179/179 - 3s - loss: 0.4210 - accuracy: 0.8098 - val_loss: 0.4481 - val_accuracy: 0.8120 - lr: 0.0050 - 3s/epoch - 16ms/step\n",
      "Epoch 9/30\n",
      "179/179 - 3s - loss: 0.4144 - accuracy: 0.8119 - val_loss: 0.4399 - val_accuracy: 0.7999 - lr: 0.0050 - 3s/epoch - 18ms/step\n",
      "Epoch 10/30\n",
      "179/179 - 3s - loss: 0.4028 - accuracy: 0.8163 - val_loss: 0.4457 - val_accuracy: 0.8051 - lr: 0.0025 - 3s/epoch - 18ms/step\n",
      "Epoch 11/30\n",
      "179/179 - 3s - loss: 0.4059 - accuracy: 0.8157 - val_loss: 0.4326 - val_accuracy: 0.8109 - lr: 0.0025 - 3s/epoch - 19ms/step\n",
      "Epoch 12/30\n",
      "179/179 - 3s - loss: 0.3904 - accuracy: 0.8283 - val_loss: 0.4560 - val_accuracy: 0.8088 - lr: 0.0025 - 3s/epoch - 19ms/step\n",
      "Epoch 13/30\n",
      "179/179 - 3s - loss: 0.3892 - accuracy: 0.8261 - val_loss: 0.4639 - val_accuracy: 0.7999 - lr: 0.0025 - 3s/epoch - 19ms/step\n",
      "Epoch 14/30\n",
      "179/179 - 3s - loss: 0.3930 - accuracy: 0.8261 - val_loss: 0.4766 - val_accuracy: 0.7994 - lr: 0.0025 - 3s/epoch - 19ms/step\n",
      "Epoch 15/30\n",
      "179/179 - 3s - loss: 0.3724 - accuracy: 0.8387 - val_loss: 0.4574 - val_accuracy: 0.8072 - lr: 0.0012 - 3s/epoch - 19ms/step\n",
      "Epoch 16/30\n",
      "179/179 - 3s - loss: 0.3788 - accuracy: 0.8297 - val_loss: 0.4770 - val_accuracy: 0.8004 - lr: 0.0012 - 3s/epoch - 19ms/step\n",
      "Epoch 17/30\n",
      "179/179 - 3s - loss: 0.3719 - accuracy: 0.8369 - val_loss: 0.4600 - val_accuracy: 0.8041 - lr: 0.0012 - 3s/epoch - 19ms/step\n",
      "Epoch 18/30\n",
      "179/179 - 3s - loss: 0.3654 - accuracy: 0.8410 - val_loss: 0.4725 - val_accuracy: 0.8009 - lr: 0.0012 - 3s/epoch - 18ms/step\n",
      "Epoch 19/30\n",
      "179/179 - 3s - loss: 0.3686 - accuracy: 0.8360 - val_loss: 0.4584 - val_accuracy: 0.8046 - lr: 0.0012 - 3s/epoch - 18ms/step\n",
      "Epoch 20/30\n",
      "179/179 - 3s - loss: 0.3646 - accuracy: 0.8411 - val_loss: 0.4653 - val_accuracy: 0.8004 - lr: 6.2500e-04 - 3s/epoch - 19ms/step\n",
      "Epoch 21/30\n",
      "179/179 - 3s - loss: 0.3625 - accuracy: 0.8420 - val_loss: 0.4621 - val_accuracy: 0.8062 - lr: 6.2500e-04 - 3s/epoch - 18ms/step\n",
      "Epoch 22/30\n",
      "179/179 - 3s - loss: 0.3611 - accuracy: 0.8382 - val_loss: 0.4630 - val_accuracy: 0.8088 - lr: 6.2500e-04 - 3s/epoch - 18ms/step\n",
      "Epoch 23/30\n",
      "179/179 - 3s - loss: 0.3582 - accuracy: 0.8406 - val_loss: 0.4756 - val_accuracy: 0.8051 - lr: 6.2500e-04 - 3s/epoch - 18ms/step\n",
      "Epoch 24/30\n",
      "179/179 - 3s - loss: 0.3651 - accuracy: 0.8406 - val_loss: 0.4541 - val_accuracy: 0.8062 - lr: 6.2500e-04 - 3s/epoch - 18ms/step\n",
      "Epoch 25/30\n",
      "179/179 - 3s - loss: 0.3604 - accuracy: 0.8417 - val_loss: 0.4636 - val_accuracy: 0.8036 - lr: 3.1250e-04 - 3s/epoch - 18ms/step\n",
      "Epoch 26/30\n",
      "179/179 - 3s - loss: 0.3568 - accuracy: 0.8453 - val_loss: 0.4678 - val_accuracy: 0.8025 - lr: 3.1250e-04 - 3s/epoch - 18ms/step\n",
      "Epoch 27/30\n",
      "179/179 - 3s - loss: 0.3549 - accuracy: 0.8438 - val_loss: 0.4632 - val_accuracy: 0.8057 - lr: 3.1250e-04 - 3s/epoch - 18ms/step\n",
      "Epoch 28/30\n",
      "179/179 - 3s - loss: 0.3526 - accuracy: 0.8438 - val_loss: 0.4666 - val_accuracy: 0.8025 - lr: 3.1250e-04 - 3s/epoch - 18ms/step\n",
      "Epoch 29/30\n",
      "179/179 - 3s - loss: 0.3543 - accuracy: 0.8450 - val_loss: 0.4707 - val_accuracy: 0.8015 - lr: 3.1250e-04 - 3s/epoch - 18ms/step\n",
      "Epoch 30/30\n",
      "179/179 - 3s - loss: 0.3525 - accuracy: 0.8483 - val_loss: 0.4713 - val_accuracy: 0.8020 - lr: 1.5625e-04 - 3s/epoch - 17ms/step\n"
     ]
    }
   ],
   "source": [
    "# Define learning rate schedule\n",
    "def step_decay(epoch):\n",
    "    initial_lr = 0.01\n",
    "    drop = 0.5\n",
    "    epochs_drop = 5.0\n",
    "    lr = initial_lr * math.pow(drop, math.floor((1 + epoch) / epochs_drop))\n",
    "    return lr\n",
    "\n",
    "lrate = LearningRateScheduler(step_decay)\n",
    "\n",
    "# train model with learning rate schedule\n",
    "history=model.fit(X_train,y_train,batch_size=32,epochs=30,validation_data=(X_test,y_test),verbose=2,callbacks=[lrate])"
   ]
  },
  {
   "cell_type": "code",
   "execution_count": 43,
   "metadata": {
    "execution": {
     "iopub.execute_input": "2023-05-27T15:36:56.698497Z",
     "iopub.status.busy": "2023-05-27T15:36:56.697465Z",
     "iopub.status.idle": "2023-05-27T15:36:56.881573Z",
     "shell.execute_reply": "2023-05-27T15:36:56.881573Z",
     "shell.execute_reply.started": "2023-05-27T15:36:56.697465Z"
    },
    "tags": []
   },
   "outputs": [
    {
     "data": {
      "image/png": "[encoded data removed]",
      "text/plain": [
       "<Figure size 432x288 with 1 Axes>"
      ]
     },
     "metadata": {
      "needs_background": "light"
     },
     "output_type": "display_data"
    }
   ],
   "source": [
    "# Accuracy vs Epoch\n",
    "plt.title('Accuracy')\n",
    "plt.plot(history.history['accuracy'], label='train')\n",
    "plt.plot(history.history['val_accuracy'], label='test')\n",
    "plt.legend()\n",
    "plt.show();"
   ]
  },
  {
   "cell_type": "code",
   "execution_count": 46,
   "metadata": {
    "execution": {
     "iopub.execute_input": "2023-05-27T15:50:14.919992Z",
     "iopub.status.busy": "2023-05-27T15:50:14.919992Z",
     "iopub.status.idle": "2023-05-27T15:50:15.688846Z",
     "shell.execute_reply": "2023-05-27T15:50:15.688846Z",
     "shell.execute_reply.started": "2023-05-27T15:50:14.919992Z"
    },
    "tags": []
   },
   "outputs": [
    {
     "name": "stdout",
     "output_type": "stream",
     "text": [
      "102/102 [==============================] - 1s 3ms/step\n"
     ]
    },
    {
     "data": {
      "text/html": [
       "<div>\n",
       "<style scoped>\n",
       "    .dataframe tbody tr th:only-of-type {\n",
       "        vertical-align: middle;\n",
       "    }\n",
       "\n",
       "    .dataframe tbody tr th {\n",
       "        vertical-align: top;\n",
       "    }\n",
       "\n",
       "    .dataframe thead th {\n",
       "        text-align: right;\n",
       "    }\n",
       "</style>\n",
       "<table border=\"1\" class=\"dataframe\">\n",
       "  <thead>\n",
       "    <tr style=\"text-align: right;\">\n",
       "      <th></th>\n",
       "      <th>id</th>\n",
       "      <th>target</th>\n",
       "    </tr>\n",
       "  </thead>\n",
       "  <tbody>\n",
       "    <tr>\n",
       "      <th>0</th>\n",
       "      <td>0</td>\n",
       "      <td>1</td>\n",
       "    </tr>\n",
       "    <tr>\n",
       "      <th>1</th>\n",
       "      <td>2</td>\n",
       "      <td>1</td>\n",
       "    </tr>\n",
       "    <tr>\n",
       "      <th>2</th>\n",
       "      <td>3</td>\n",
       "      <td>1</td>\n",
       "    </tr>\n",
       "    <tr>\n",
       "      <th>3</th>\n",
       "      <td>9</td>\n",
       "      <td>1</td>\n",
       "    </tr>\n",
       "    <tr>\n",
       "      <th>4</th>\n",
       "      <td>11</td>\n",
       "      <td>1</td>\n",
       "    </tr>\n",
       "  </tbody>\n",
       "</table>\n",
       "</div>"
      ],
      "text/plain": [
       "   id  target\n",
       "0   0       1\n",
       "1   2       1\n",
       "2   3       1\n",
       "3   9       1\n",
       "4  11       1"
      ]
     },
     "execution_count": 46,
     "metadata": {},
     "output_type": "execute_result"
    }
   ],
   "source": [
    "# Predictions\n",
    "predictions = model.predict(test_corpus_pad)\n",
    "predictions = np.round(predictions).astype(int).reshape(3263)\n",
    "# Creating submission file \n",
    "submission = pd.DataFrame({'id' : df_test['id'], 'target' : predictions})\n",
    "submission.to_csv('./data/lstm_lr_submission.csv', index=False)\n",
    "\n",
    "submission.head()"
   ]
  },
  {
   "cell_type": "markdown",
   "metadata": {},
   "source": [
    "### Try multiple layers of LSTM\n",
    "\n",
    "With learning rate schedule, the accuracy got improved a bit, let's try deeper architecture with one more layer of LSTM.\n"
   ]
  },
  {
   "cell_type": "code",
   "execution_count": 73,
   "metadata": {
    "execution": {
     "iopub.execute_input": "2023-05-27T16:48:35.637015Z",
     "iopub.status.busy": "2023-05-27T16:48:35.637015Z",
     "iopub.status.idle": "2023-05-27T16:48:36.300235Z",
     "shell.execute_reply": "2023-05-27T16:48:36.300235Z",
     "shell.execute_reply.started": "2023-05-27T16:48:35.637015Z"
    },
    "tags": []
   },
   "outputs": [
    {
     "name": "stdout",
     "output_type": "stream",
     "text": [
      "Model: \"sequential_15\"\n",
      "_________________________________________________________________\n",
      " Layer (type)                Output Shape              Param #   \n",
      "=================================================================\n",
      " embedding_15 (Embedding)    (None, 20, 100)           1492800   \n",
      "                                                                 \n",
      " lstm_40 (LSTM)              (None, 20, 128)           117248    \n",
      "                                                                 \n",
      " dropout_31 (Dropout)        (None, 20, 128)           0         \n",
      "                                                                 \n",
      " lstm_41 (LSTM)              (None, 64)                49408     \n",
      "                                                                 \n",
      " dropout_32 (Dropout)        (None, 64)                0         \n",
      "                                                                 \n",
      " flatten_3 (Flatten)         (None, 64)                0         \n",
      "                                                                 \n",
      " dense_19 (Dense)            (None, 32)                2080      \n",
      "                                                                 \n",
      " dense_20 (Dense)            (None, 1)                 33        \n",
      "                                                                 \n",
      "=================================================================\n",
      "Total params: 1,661,569\n",
      "Trainable params: 168,769\n",
      "Non-trainable params: 1,492,800\n",
      "_________________________________________________________________\n"
     ]
    }
   ],
   "source": [
    "# Long Short Term Memory network.\n",
    "\n",
    "# We need sequential model to process sequence of text data\n",
    "model=Sequential()\n",
    "\n",
    "# Embedding(input_dimension, output_dimension,embeddings_initializer = initialize the embedding matrix we created, trainable = do not train)\n",
    "embedding=Embedding(num_words,100,\n",
    "                    embeddings_initializer=Constant(embedding_matrix),\n",
    "                    input_length=MAX_LEN,\n",
    "                    trainable=False)\n",
    "# Adding Embedding Layer\n",
    "model.add(embedding)\n",
    "model.add(LSTM(units=128, return_sequences=True))\n",
    "model.add(Dropout(0.2))\n",
    "model.add(LSTM(units=64, return_sequences=False))\n",
    "model.add(Dropout(0.2))\n",
    "model.add(Flatten())\n",
    "model.add(Dense(units=32, activation='relu'))\n",
    "\n",
    "# Decide what we are going to output Dense(units, activation function)\n",
    "model.add(Dense(1, activation='sigmoid'))\n",
    "\n",
    "# Compile the model compile(loss = binary crossentropy, use Adam(adaptive moment estimation) optimizer with learning rate 1e-3,evaluate based on accuracy)\n",
    "model.compile(loss='binary_crossentropy',optimizer=Adam(learning_rate=1e-4),metrics=['accuracy'])\n",
    "\n",
    "model.summary()"
   ]
  },
  {
   "cell_type": "code",
   "execution_count": 74,
   "metadata": {
    "execution": {
     "iopub.execute_input": "2023-05-27T16:48:48.413797Z",
     "iopub.status.busy": "2023-05-27T16:48:48.413797Z",
     "iopub.status.idle": "2023-05-27T16:49:47.102663Z",
     "shell.execute_reply": "2023-05-27T16:49:47.101657Z",
     "shell.execute_reply.started": "2023-05-27T16:48:48.413797Z"
    },
    "tags": []
   },
   "outputs": [
    {
     "name": "stdout",
     "output_type": "stream",
     "text": [
      "Epoch 1/10\n",
      "179/179 - 10s - loss: 0.6204 - accuracy: 0.6760 - val_loss: 0.6117 - val_accuracy: 0.6864 - lr: 0.0100 - 10s/epoch - 57ms/step\n",
      "Epoch 2/10\n",
      "179/179 - 5s - loss: 0.6854 - accuracy: 0.5675 - val_loss: 0.6802 - val_accuracy: 0.5814 - lr: 0.0100 - 5s/epoch - 29ms/step\n",
      "Epoch 3/10\n",
      "179/179 - 5s - loss: 0.6818 - accuracy: 0.5689 - val_loss: 0.6446 - val_accuracy: 0.6964 - lr: 0.0100 - 5s/epoch - 30ms/step\n",
      "Epoch 4/10\n",
      "179/179 - 5s - loss: 0.5690 - accuracy: 0.7290 - val_loss: 0.4912 - val_accuracy: 0.7820 - lr: 0.0100 - 5s/epoch - 30ms/step\n",
      "Epoch 5/10\n",
      "179/179 - 5s - loss: 0.4577 - accuracy: 0.8028 - val_loss: 0.4659 - val_accuracy: 0.7925 - lr: 0.0050 - 5s/epoch - 30ms/step\n",
      "Epoch 6/10\n",
      "179/179 - 5s - loss: 0.4196 - accuracy: 0.8233 - val_loss: 0.4756 - val_accuracy: 0.7973 - lr: 0.0050 - 5s/epoch - 30ms/step\n",
      "Epoch 7/10\n",
      "179/179 - 5s - loss: 0.3874 - accuracy: 0.8371 - val_loss: 0.4907 - val_accuracy: 0.7962 - lr: 0.0050 - 5s/epoch - 30ms/step\n",
      "Epoch 8/10\n",
      "179/179 - 5s - loss: 0.3502 - accuracy: 0.8590 - val_loss: 0.5135 - val_accuracy: 0.8062 - lr: 0.0050 - 5s/epoch - 30ms/step\n",
      "Epoch 9/10\n",
      "179/179 - 6s - loss: 0.3284 - accuracy: 0.8741 - val_loss: 0.4976 - val_accuracy: 0.7852 - lr: 0.0050 - 6s/epoch - 31ms/step\n",
      "Epoch 10/10\n",
      "179/179 - 6s - loss: 0.2739 - accuracy: 0.9024 - val_loss: 0.5344 - val_accuracy: 0.7967 - lr: 0.0025 - 6s/epoch - 31ms/step\n"
     ]
    }
   ],
   "source": [
    "# Define learning rate schedule\n",
    "def step_decay(epoch):\n",
    "    initial_lr = 0.01\n",
    "    drop = 0.5\n",
    "    epochs_drop = 5.0\n",
    "    lr = initial_lr * math.pow(drop, math.floor((1 + epoch) / epochs_drop))\n",
    "    return lr\n",
    "\n",
    "lrate = LearningRateScheduler(step_decay)\n",
    "\n",
    "# train model with learning rate schedule\n",
    "history=model.fit(X_train,y_train,batch_size=32,epochs=10,validation_data=(X_test,y_test),verbose=2,callbacks=[lrate])"
   ]
  },
  {
   "cell_type": "code",
   "execution_count": 75,
   "metadata": {
    "execution": {
     "iopub.execute_input": "2023-05-27T16:50:14.947089Z",
     "iopub.status.busy": "2023-05-27T16:50:14.947089Z",
     "iopub.status.idle": "2023-05-27T16:50:15.128398Z",
     "shell.execute_reply": "2023-05-27T16:50:15.128398Z",
     "shell.execute_reply.started": "2023-05-27T16:50:14.947089Z"
    },
    "tags": []
   },
   "outputs": [
    {
     "data": {
      "image/png": "[encoded data removed]",
      "text/plain": [
       "<Figure size 432x288 with 1 Axes>"
      ]
     },
     "metadata": {
      "needs_background": "light"
     },
     "output_type": "display_data"
    }
   ],
   "source": [
    "# Accuracy vs Epoch\n",
    "plt.title('Accuracy')\n",
    "plt.plot(history.history['accuracy'], label='train')\n",
    "plt.plot(history.history['val_accuracy'], label='test')\n",
    "plt.legend()\n",
    "plt.show();"
   ]
  },
  {
   "cell_type": "code",
   "execution_count": 76,
   "metadata": {
    "execution": {
     "iopub.execute_input": "2023-05-27T16:50:55.777830Z",
     "iopub.status.busy": "2023-05-27T16:50:55.777830Z",
     "iopub.status.idle": "2023-05-27T16:50:57.828320Z",
     "shell.execute_reply": "2023-05-27T16:50:57.827405Z",
     "shell.execute_reply.started": "2023-05-27T16:50:55.777830Z"
    },
    "tags": []
   },
   "outputs": [
    {
     "name": "stdout",
     "output_type": "stream",
     "text": [
      "102/102 [==============================] - 2s 10ms/step\n"
     ]
    },
    {
     "data": {
      "text/html": [
       "<div>\n",
       "<style scoped>\n",
       "    .dataframe tbody tr th:only-of-type {\n",
       "        vertical-align: middle;\n",
       "    }\n",
       "\n",
       "    .dataframe tbody tr th {\n",
       "        vertical-align: top;\n",
       "    }\n",
       "\n",
       "    .dataframe thead th {\n",
       "        text-align: right;\n",
       "    }\n",
       "</style>\n",
       "<table border=\"1\" class=\"dataframe\">\n",
       "  <thead>\n",
       "    <tr style=\"text-align: right;\">\n",
       "      <th></th>\n",
       "      <th>id</th>\n",
       "      <th>target</th>\n",
       "    </tr>\n",
       "  </thead>\n",
       "  <tbody>\n",
       "    <tr>\n",
       "      <th>0</th>\n",
       "      <td>0</td>\n",
       "      <td>1</td>\n",
       "    </tr>\n",
       "    <tr>\n",
       "      <th>1</th>\n",
       "      <td>2</td>\n",
       "      <td>1</td>\n",
       "    </tr>\n",
       "    <tr>\n",
       "      <th>2</th>\n",
       "      <td>3</td>\n",
       "      <td>1</td>\n",
       "    </tr>\n",
       "    <tr>\n",
       "      <th>3</th>\n",
       "      <td>9</td>\n",
       "      <td>1</td>\n",
       "    </tr>\n",
       "    <tr>\n",
       "      <th>4</th>\n",
       "      <td>11</td>\n",
       "      <td>1</td>\n",
       "    </tr>\n",
       "  </tbody>\n",
       "</table>\n",
       "</div>"
      ],
      "text/plain": [
       "   id  target\n",
       "0   0       1\n",
       "1   2       1\n",
       "2   3       1\n",
       "3   9       1\n",
       "4  11       1"
      ]
     },
     "execution_count": 76,
     "metadata": {},
     "output_type": "execute_result"
    }
   ],
   "source": [
    "# Predictions\n",
    "predictions = model.predict(test_corpus_pad)\n",
    "predictions = np.round(predictions).astype(int).reshape(3263)\n",
    "# Creating submission file \n",
    "submission = pd.DataFrame({'id' : df_test['id'], 'target' : predictions})\n",
    "submission.to_csv('./data/multi_lstm_lr_submission.csv', index=False)\n",
    "\n",
    "submission.head()"
   ]
  },
  {
   "cell_type": "markdown",
   "metadata": {},
   "source": [
    "______ \n",
    "# Result\n",
    "\n",
    "Here are the scores received after submitting result to Kaggle. \n",
    "\n",
    "\n",
    "| submission file              | Architecture Detail                              | Score       |\n",
    "|------------------------------|--------------------------------------------------|-------------|\n",
    "| multi_lstm_lr_submission.csv |  2 layers LSTM with learning rate   schedule     | 0.78271     |\n",
    "| lstm_lr_submission.csv       |  LSTM with learning rate schedule   (corrected)  | **0.80324** |\n",
    "| lstm_lr_submission.csv       |  LSTM with learning rate schedule   (wrong file) | 0.77965     |\n",
    "| gru_submission_1.csv         | RNN with one layer GRU                           | 0.77965     |\n",
    "| lstm_submission_1.csv        | RNN with one layer LSTM                          | 0.79436     |\n",
    "\n",
    "\n",
    "As we can see from the result, LSTM performed slightly better than GRU in this practice (accuracy score 0.79436 vs 0.77965).\n",
    "\n",
    "After adding learning rate schedule to LSTM model, the score improved from 0.79436 to 0.80324, as it allows model to escape local minima or plateaus in the loss landscape. \n",
    "('LSTM with learning rate schedule   (wrong file)' is the case I upload the result file of GRU model by mistake, the score is same as that of  gru_submission_1.csv.)\n",
    "\n",
    "Then I tried more deeper architecture with 2 layers LSTM, but it seems there is significant overfitting issue, the score got decreased (0.78271).\n",
    "\n",
    "So the **next step** is to solve the overfitting issue, we can apply more dropout layers to the model. \n",
    "\n"
   ]
  },
  {
   "cell_type": "markdown",
   "metadata": {},
   "source": [
    "Snapshot from Kaggle for reference"
   ]
  },
  {
   "cell_type": "markdown",
   "metadata": {},
   "source": [
    "![alt text](rnn_kaggle_score.png \"Solution Score\")"
   ]
  },
  {
   "cell_type": "code",
   "execution_count": null,
   "metadata": {},
   "outputs": [],
   "source": []
  }
 ],
 "metadata": {
  "kernelspec": {
   "display_name": "Python 3 (ipykernel)",
   "language": "python",
   "name": "python3"
  },
  "language_info": {
   "codemirror_mode": {
    "name": "ipython",
    "version": 3
   },
   "file_extension": ".py",
   "mimetype": "text/x-python",
   "name": "python",
   "nbconvert_exporter": "python",
   "pygments_lexer": "ipython3",
   "version": "3.8.10"
  }
 },
 "nbformat": 4,
 "nbformat_minor": 4
}
